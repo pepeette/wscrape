{
 "cells": [
  {
   "cell_type": "code",
   "execution_count": null,
   "id": "22fa8fa3-ab3c-4cb8-8420-9da6f86d066a",
   "metadata": {},
   "outputs": [],
   "source": [
    "# !pip install selenium"
   ]
  },
  {
   "cell_type": "code",
   "execution_count": 1,
   "id": "c50eeae5-d3ee-4379-80f3-9f2c82f6026a",
   "metadata": {},
   "outputs": [],
   "source": [
    "import requests\n",
    "from bs4 import BeautifulSoup\n",
    "from selenium import webdriver\n",
    "from selenium.webdriver.chrome.options import Options\n",
    "from selenium.webdriver.support import expected_conditions as EC\n",
    "from selenium.webdriver.common.by import By\n",
    "from selenium.webdriver.support.wait import WebDriverWait\n",
    "import time\n",
    "import csv\n",
    "\n"
   ]
  },
  {
   "cell_type": "code",
   "execution_count": 2,
   "id": "8b3ecfea-970b-4d0d-aaa0-b193f32a36a8",
   "metadata": {},
   "outputs": [],
   "source": [
    "\n",
    "# Initialization\n",
    "url = 'https://questexhospitality.app.swapcard.com/widget/event/ihif-asia/people/RXZlbnRWaWV3Xzc2Njg5NQ==?showActions=true'\n",
    "\n",
    "# Set up Chrome options\n",
    "chrome_options = Options()\n",
    "chrome_options.add_argument(\"--headless\")  # Run in headless mode\n",
    "\n",
    "# Open Chrome driver\n",
    "driver = webdriver.Chrome(options=chrome_options)\n",
    "\n",
    "# Navigate to the URL\n",
    "driver.get(url)"
   ]
  },
  {
   "cell_type": "code",
   "execution_count": 3,
   "id": "4dd3f16f-73f3-43a1-90aa-022c3123de5d",
   "metadata": {},
   "outputs": [],
   "source": [
    "# Wait for the content to load\n",
    "wait = WebDriverWait(driver, 20)\n",
    "wait.until(EC.presence_of_element_located((By.CLASS_NAME, \"sc-a7ac5ca1-0\")))\n",
    "\n",
    "# Function to handle scrolling\n",
    "def scroll_to_bottom():\n",
    "    last_height = driver.execute_script(\"return document.body.scrollHeight\")\n",
    "    while True:\n",
    "        driver.execute_script(\"window.scrollTo(0, document.body.scrollHeight);\")\n",
    "        time.sleep(2)\n",
    "        new_height = driver.execute_script(\"return document.body.scrollHeight\")\n",
    "        if new_height == last_height:\n",
    "            break\n",
    "        last_height = new_height\n",
    "\n",
    "# Scroll to load all content\n",
    "scroll_to_bottom()\n"
   ]
  },
  {
   "cell_type": "code",
   "execution_count": 4,
   "id": "f2cd5303-b88c-4674-ab00-960a0587722d",
   "metadata": {},
   "outputs": [],
   "source": [
    "\n",
    "# Get the source and parse it\n",
    "source = driver.page_source\n",
    "soup = BeautifulSoup(source, 'html.parser')\n"
   ]
  },
  {
   "cell_type": "code",
   "execution_count": 5,
   "id": "c226a5c0-0c3d-4fd1-9e0b-3b1abeb5f475",
   "metadata": {},
   "outputs": [],
   "source": [
    "\n",
    "# Processing\n",
    "scraped_data = []\n",
    "main_div = soup.find('div', class_=\"sc-a7ac5ca1-0 etPmlQ\")\n",
    "if main_div:\n",
    "    spans = main_div.find_all('span')\n",
    "    for i in range(0, len(spans), 3):\n",
    "        if i + 2 < len(spans):\n",
    "            name = spans[i].text.strip()\n",
    "            title = spans[i+1].text.strip()\n",
    "            company = spans[i+2].text.strip()\n",
    "            if name and title and company:  # Only add if all fields are non-empty\n",
    "                scraped_data.append([name, title, company])\n"
   ]
  },
  {
   "cell_type": "code",
   "execution_count": 6,
   "id": "549abcbd-9f71-47fc-9260-a9e6cc1d12fb",
   "metadata": {},
   "outputs": [
    {
     "name": "stdout",
     "output_type": "stream",
     "text": [
      "Data saved successfully! 97 people extracted.\n"
     ]
    }
   ],
   "source": [
    "\n",
    "# Write to CSV\n",
    "with open('questex_hospitality_data.csv', mode='w', newline='', encoding='utf-8') as csvfile:\n",
    "    writer = csv.writer(csvfile)\n",
    "    writer.writerow(['Name', 'Title', 'Company'])  # Header\n",
    "    writer.writerows(scraped_data)\n",
    "\n",
    "# Clean up\n",
    "print(f\"Data saved successfully! {len(scraped_data)} people extracted.\")\n",
    "driver.quit()"
   ]
  },
  {
   "cell_type": "code",
   "execution_count": null,
   "id": "ec0b67c0-9f9f-40fc-9617-d9420746e6a0",
   "metadata": {},
   "outputs": [],
   "source": []
  },
  {
   "cell_type": "code",
   "execution_count": null,
   "id": "3159d752-37ad-402a-9764-8bbb6ba1bc62",
   "metadata": {},
   "outputs": [],
   "source": []
  },
  {
   "cell_type": "code",
   "execution_count": null,
   "id": "f3c62344-bc00-4c76-b83f-b6e3e8ed911b",
   "metadata": {},
   "outputs": [],
   "source": []
  }
 ],
 "metadata": {
  "kernelspec": {
   "display_name": "Python 3 (ipykernel)",
   "language": "python",
   "name": "python3"
  },
  "language_info": {
   "codemirror_mode": {
    "name": "ipython",
    "version": 3
   },
   "file_extension": ".py",
   "mimetype": "text/x-python",
   "name": "python",
   "nbconvert_exporter": "python",
   "pygments_lexer": "ipython3",
   "version": "3.12.2"
  }
 },
 "nbformat": 4,
 "nbformat_minor": 5
}
