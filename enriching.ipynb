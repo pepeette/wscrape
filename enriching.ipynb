{
 "cells": [
  {
   "cell_type": "code",
   "execution_count": 10,
   "metadata": {},
   "outputs": [],
   "source": [
    "import pandas as pd\n",
    "import numpy as np\n"
   ]
  },
  {
   "cell_type": "code",
   "execution_count": 11,
   "metadata": {},
   "outputs": [],
   "source": [
    "import pandas as pd\n",
    "from openai import OpenAI\n",
    "import json\n",
    "import time\n",
    "from tqdm import tqdm\n",
    "import os"
   ]
  },
  {
   "cell_type": "code",
   "execution_count": 2,
   "metadata": {},
   "outputs": [
    {
     "data": {
      "text/html": [
       "<div>\n",
       "<style scoped>\n",
       "    .dataframe tbody tr th:only-of-type {\n",
       "        vertical-align: middle;\n",
       "    }\n",
       "\n",
       "    .dataframe tbody tr th {\n",
       "        vertical-align: top;\n",
       "    }\n",
       "\n",
       "    .dataframe thead th {\n",
       "        text-align: right;\n",
       "    }\n",
       "</style>\n",
       "<table border=\"1\" class=\"dataframe\">\n",
       "  <thead>\n",
       "    <tr style=\"text-align: right;\">\n",
       "      <th></th>\n",
       "      <th>Unnamed: 0</th>\n",
       "      <th>Date Scraped</th>\n",
       "      <th>Hotel Name</th>\n",
       "      <th>Second Span Text</th>\n",
       "      <th>Link URL</th>\n",
       "    </tr>\n",
       "  </thead>\n",
       "  <tbody>\n",
       "    <tr>\n",
       "      <th>365</th>\n",
       "      <td>365</td>\n",
       "      <td>2024-10-02</td>\n",
       "      <td>D VAREE JOMTIEN BEACH, PATTAYA</td>\n",
       "      <td>NaN</td>\n",
       "      <td>http://www.djb.dvaree.com/</td>\n",
       "    </tr>\n",
       "    <tr>\n",
       "      <th>681</th>\n",
       "      <td>681</td>\n",
       "      <td>2024-10-02</td>\n",
       "      <td>SAII PHI PHI ISLAND VILLAGE</td>\n",
       "      <td>Krabi</td>\n",
       "      <td>http://www.saiiresorts.com/</td>\n",
       "    </tr>\n",
       "  </tbody>\n",
       "</table>\n",
       "</div>"
      ],
      "text/plain": [
       "     Unnamed: 0 Date Scraped                      Hotel Name Second Span Text                     Link URL\n",
       "365         365   2024-10-02  D VAREE JOMTIEN BEACH, PATTAYA              NaN   http://www.djb.dvaree.com/\n",
       "681         681   2024-10-02     SAII PHI PHI ISLAND VILLAGE            Krabi  http://www.saiiresorts.com/"
      ]
     },
     "execution_count": 2,
     "metadata": {},
     "output_type": "execute_result"
    }
   ],
   "source": [
    "# Read the CSV file\n",
    "df = pd.read_csv(r\"C:\\Users\\Laetitia\\Documents\\Python\\hotels_th\\hotel_data_20241002_091611.csv\")\n",
    "pd.set_option('display.max_columns', 1000, 'display.width', 1000, 'display.max_rows',1000)\n",
    "df.sample(2)\n"
   ]
  },
  {
   "cell_type": "code",
   "execution_count": 3,
   "metadata": {},
   "outputs": [],
   "source": [
    "# Clean the 'Hotel Name' column:\n",
    "# 1. Remove quotes\n",
    "# 2. Strip leading and trailing whitespace\n",
    "# 3. Replace multiple spaces with single space\n",
    "df['Hotel Name'] = df['Hotel Name'].apply(lambda x: str(x)\n",
    "                                         .replace('\"', '')  # Remove quotes\n",
    "                                         .strip()           # Remove leading/trailing whitespace\n",
    "                                         .replace('  ', ' '))  # Replace double spaces with single space\n"
   ]
  },
  {
   "cell_type": "code",
   "execution_count": 4,
   "metadata": {},
   "outputs": [
    {
     "data": {
      "text/html": [
       "<div>\n",
       "<style scoped>\n",
       "    .dataframe tbody tr th:only-of-type {\n",
       "        vertical-align: middle;\n",
       "    }\n",
       "\n",
       "    .dataframe tbody tr th {\n",
       "        vertical-align: top;\n",
       "    }\n",
       "\n",
       "    .dataframe thead th {\n",
       "        text-align: right;\n",
       "    }\n",
       "</style>\n",
       "<table border=\"1\" class=\"dataframe\">\n",
       "  <thead>\n",
       "    <tr style=\"text-align: right;\">\n",
       "      <th></th>\n",
       "      <th>Unnamed: 0</th>\n",
       "      <th>Date Scraped</th>\n",
       "      <th>Hotel Name</th>\n",
       "      <th>Second Span Text</th>\n",
       "      <th>Link URL</th>\n",
       "    </tr>\n",
       "  </thead>\n",
       "  <tbody>\n",
       "    <tr>\n",
       "      <th>728</th>\n",
       "      <td>728</td>\n",
       "      <td>2024-10-02</td>\n",
       "      <td>BANYAN TREE PHUKET</td>\n",
       "      <td>Phuket</td>\n",
       "      <td>https://www.banyantree.com/</td>\n",
       "    </tr>\n",
       "    <tr>\n",
       "      <th>714</th>\n",
       "      <td>714</td>\n",
       "      <td>2024-10-02</td>\n",
       "      <td>ANDAMAN EMBRACE PATONG</td>\n",
       "      <td>Phuket</td>\n",
       "      <td>http://www.andamanembrace.com/</td>\n",
       "    </tr>\n",
       "    <tr>\n",
       "      <th>1019</th>\n",
       "      <td>1019</td>\n",
       "      <td>2024-10-02</td>\n",
       "      <td>MITUTOYO (THAILAND) CO.,LTD.</td>\n",
       "      <td>Bangkok</td>\n",
       "      <td>http://www.mitutoya.co.th/</td>\n",
       "    </tr>\n",
       "    <tr>\n",
       "      <th>159</th>\n",
       "      <td>159</td>\n",
       "      <td>2024-10-02</td>\n",
       "      <td>MANDARIN HOTEL</td>\n",
       "      <td>Bangkok</td>\n",
       "      <td>http://www.mandarin-bkk.com/</td>\n",
       "    </tr>\n",
       "    <tr>\n",
       "      <th>32</th>\n",
       "      <td>32</td>\n",
       "      <td>2024-10-02</td>\n",
       "      <td>BANGKOK HOTEL LOTUS SUKHUMVIT</td>\n",
       "      <td>Bangkok</td>\n",
       "      <td>http://www.hotellotussukhumvit.com/</td>\n",
       "    </tr>\n",
       "    <tr>\n",
       "      <th>193</th>\n",
       "      <td>193</td>\n",
       "      <td>2024-10-02</td>\n",
       "      <td>OAKWOOD STUDIOS SUKHUMVIT BANGKOK</td>\n",
       "      <td>Bangkok</td>\n",
       "      <td>http://www.oakwood.com/thailand</td>\n",
       "    </tr>\n",
       "    <tr>\n",
       "      <th>146</th>\n",
       "      <td>146</td>\n",
       "      <td>2024-10-02</td>\n",
       "      <td>LANDMARK BANGKOK HOTEL</td>\n",
       "      <td>Bangkok</td>\n",
       "      <td>http://www.landmarkbangkok.com/</td>\n",
       "    </tr>\n",
       "    <tr>\n",
       "      <th>501</th>\n",
       "      <td>501</td>\n",
       "      <td>2024-10-02</td>\n",
       "      <td>THIPURAI CITY HOTEL</td>\n",
       "      <td>Prachuapkhirikhan</td>\n",
       "      <td>http://www.thipuraicityhotel.com/</td>\n",
       "    </tr>\n",
       "    <tr>\n",
       "      <th>184</th>\n",
       "      <td>184</td>\n",
       "      <td>2024-10-02</td>\n",
       "      <td>NORTHGATE RATCHAYOTHIN</td>\n",
       "      <td>Bangkok</td>\n",
       "      <td>http://www.northgatebangkok.com/</td>\n",
       "    </tr>\n",
       "    <tr>\n",
       "      <th>24</th>\n",
       "      <td>24</td>\n",
       "      <td>2024-10-02</td>\n",
       "      <td>ASPIRA SKYY</td>\n",
       "      <td>Bangkok</td>\n",
       "      <td>http://www.skyyhotel.com/</td>\n",
       "    </tr>\n",
       "  </tbody>\n",
       "</table>\n",
       "</div>"
      ],
      "text/plain": [
       "      Unnamed: 0 Date Scraped                         Hotel Name    Second Span Text                             Link URL\n",
       "728          728   2024-10-02                 BANYAN TREE PHUKET             Phuket           https://www.banyantree.com/\n",
       "714          714   2024-10-02             ANDAMAN EMBRACE PATONG             Phuket        http://www.andamanembrace.com/\n",
       "1019        1019   2024-10-02       MITUTOYO (THAILAND) CO.,LTD.             Bangkok           http://www.mitutoya.co.th/\n",
       "159          159   2024-10-02                     MANDARIN HOTEL             Bangkok         http://www.mandarin-bkk.com/\n",
       "32            32   2024-10-02      BANGKOK HOTEL LOTUS SUKHUMVIT             Bangkok  http://www.hotellotussukhumvit.com/\n",
       "193          193   2024-10-02  OAKWOOD STUDIOS SUKHUMVIT BANGKOK             Bangkok      http://www.oakwood.com/thailand\n",
       "146          146   2024-10-02             LANDMARK BANGKOK HOTEL             Bangkok      http://www.landmarkbangkok.com/\n",
       "501          501   2024-10-02                THIPURAI CITY HOTEL   Prachuapkhirikhan    http://www.thipuraicityhotel.com/\n",
       "184          184   2024-10-02             NORTHGATE RATCHAYOTHIN             Bangkok     http://www.northgatebangkok.com/\n",
       "24            24   2024-10-02                        ASPIRA SKYY             Bangkok            http://www.skyyhotel.com/"
      ]
     },
     "execution_count": 4,
     "metadata": {},
     "output_type": "execute_result"
    }
   ],
   "source": [
    "df.sample(10)"
   ]
  },
  {
   "cell_type": "code",
   "execution_count": 5,
   "metadata": {},
   "outputs": [],
   "source": [
    "df.to_csv('hotel_data_20241002_091611.csv', index=False)"
   ]
  },
  {
   "cell_type": "code",
   "execution_count": 7,
   "metadata": {},
   "outputs": [],
   "source": [
    "# Set your OpenAI API key\n",
    "os.environ[\"OPENAI_API_KEY\"] ='sk-9uaMnkNNnNFMrDIhz6gdwDsV8uDNmezZ5EsAx4ycglT3BlbkFJbRiwaqHuwVUnaVc_H3StMmQyXEDq7Z8I-X2Cdj8KQA'\n"
   ]
  },
  {
   "cell_type": "code",
   "execution_count": 8,
   "metadata": {},
   "outputs": [],
   "source": [
    "def get_hotel_info_from_openai(hotel_name, hotel_url):\n",
    "    # Initialize the client\n",
    "    client = OpenAI()  # Make sure OPENAI_API_KEY is set in your environment variables\n",
    "    \n",
    "    try:\n",
    "        info_prompt = f\"\"\"Based on the hotel name \"{hotel_name}\" and URL {hotel_url}, please provide:\n",
    "        1. The likely ownership (company or group that owns this hotel) and its name, maybe also include percentage.\n",
    "        2. If the property is managed by a group, and if so which one.\n",
    "        3. A possible mission statement for this hotel, keep it short and casual, make it distinctive from any other hotel.\n",
    "        4. The star rating of this hotel as an integer between 1 and 5.\n",
    "        \n",
    "        Respond with a JSON object using this exact format:\n",
    "        {{\n",
    "            \"ownership\": \"string describing ownership details\",\n",
    "            \"management\": \"string describing management group, or null if none\",\n",
    "            \"mission\": \"string containing mission statement\",\n",
    "            \"star_rating\": integer between 1 and 5\n",
    "        }}\"\"\"\n",
    "        \n",
    "        response = client.chat.completions.create(\n",
    "            model=\"gpt-3.5-turbo\",\n",
    "            messages=[\n",
    "                {\"role\": \"system\", \"content\": \"You are a hotel industry expert analyst. Always provide responses in valid JSON format.\"},\n",
    "                {\"role\": \"user\", \"content\": info_prompt}\n",
    "            ],\n",
    "            temperature=0.7\n",
    "        )\n",
    "        \n",
    "        # Extract the content and parse JSON\n",
    "        content = response.choices[0].message.content\n",
    "        try:\n",
    "            parsed_content = json.loads(content)\n",
    "            \n",
    "            # Ensure star_rating is an integer\n",
    "            if 'star_rating' in parsed_content:\n",
    "                parsed_content['star_rating'] = int(parsed_content['star_rating'])\n",
    "            \n",
    "            return parsed_content\n",
    "            \n",
    "        except json.JSONDecodeError:\n",
    "            print(f\"Failed to parse JSON for {hotel_name}. Raw response: {content}\")\n",
    "            return None\n",
    "        \n",
    "    except Exception as e:\n",
    "        print(f\"Error processing {hotel_name}: {str(e)}\")\n",
    "        return None"
   ]
  },
  {
   "cell_type": "code",
   "execution_count": 9,
   "metadata": {},
   "outputs": [],
   "source": [
    "def get_hotel_info_from_openai(hotel_name, hotel_url):\n",
    "    try:\n",
    "        info_prompt = f\"\"\"Based on the hotel name \"{hotel_name}\" and URL {hotel_url}, please provide:\n",
    "        1. The likely ownership (company or group that owns this hotel) and its name, maybe also include percentage.\n",
    "        2. If the property is managed by a group, and if so which one.\n",
    "        3. A possible mission statement for this hotel, keep it short and casual, make it distinctive from any other hotel.\n",
    "        4. Tell me what is the star rating of this hotel ; The only possible ratings are an integer between 1 and 5.\"\n",
    "        \n",
    "        Format the response as JSON with keys: ownership, management, mission, , star_rating\"\"\"\n",
    "        \n",
    "        response = openai.ChatCompletion.create(\n",
    "            model=\"gpt-3.5-turbo\",\n",
    "            messages=[\n",
    "                {\"role\": \"system\", \"content\": \"You are a hotel industry expert analyst.\"},\n",
    "                {\"role\": \"user\", \"content\": info_prompt}\n",
    "            ],\n",
    "            temperature=0.7\n",
    "        )\n",
    "        \n",
    "        content = response.choices[0].message.content\n",
    "        \n",
    "        # Here you might need to add proper JSON parsing depending on the actual response format\n",
    "        # For now, we'll use a simple dictionary\n",
    "        return {\n",
    "            'ownership': content.get('ownership', None),\n",
    "            'management': content.get('management', None),\n",
    "            'mission': content.get('mission', None),\n",
    "            'star_rating': content.get('star_rating', None),\n",
    "        }\n",
    "    except Exception as e:\n",
    "        print(f\"Error processing {hotel_name}: {str(e)}\")\n",
    "        return None\n"
   ]
  },
  {
   "cell_type": "code",
   "execution_count": 30,
   "metadata": {},
   "outputs": [],
   "source": [
    "def process_hotel_data(csv_path):\n",
    "    # Read the CSV file\n",
    "    df = pd.read_csv(csv_path)\n",
    "    \n",
    "    # Add or ensure columns exist\n",
    "    new_columns = ['Ownership', 'Management', 'Mission', 'Star_Rating']\n",
    "    for col in new_columns:\n",
    "        if col not in df.columns:\n",
    "            df[col] = None\n",
    "    \n",
    "    # Process each hotel\n",
    "    for index, row in tqdm(df.iterrows(), total=len(df)):\n",
    "        if pd.isna(row['Ownership']) or pd.isna(row['Star_Rating']):\n",
    "            hotel_info = get_hotel_info_from_openai(row['Hotel Name'], row['Link URL'])\n",
    "            \n",
    "            if hotel_info:\n",
    "                for key in hotel_info:\n",
    "                    column_name = key.title() if key != 'star_rating' else 'Star_Rating'\n",
    "                    df.at[index, column_name] = hotel_info[key]\n",
    "            \n",
    "            # Save progress every 5 hotels\n",
    "            if (index + 1) % 5 == 0:\n",
    "                progress_path = csv_path.replace('.csv', f'_enriched_progress_{index+1}.csv')\n",
    "                df.to_csv(progress_path, index=False)\n",
    "                print(f\"Progress saved: {index+1} hotels processed\")\n",
    "            \n",
    "            time.sleep(1)  # Rate limiting\n",
    "    \n",
    "    # Save final results\n",
    "    output_path = csv_path.replace('.csv', '_enriched_final.csv')\n",
    "    df.to_csv(output_path, index=False)\n",
    "    return df\n"
   ]
  },
  {
   "cell_type": "code",
   "execution_count": 31,
   "metadata": {},
   "outputs": [
    {
     "name": "stderr",
     "output_type": "stream",
     "text": [
      "  0%|          | 4/1078 [00:11<52:23,  2.93s/it]"
     ]
    },
    {
     "name": "stdout",
     "output_type": "stream",
     "text": [
      "Progress saved: 5 hotels processed\n"
     ]
    },
    {
     "name": "stderr",
     "output_type": "stream",
     "text": [
      "  1%|          | 9/1078 [00:24<44:34,  2.50s/it]"
     ]
    },
    {
     "name": "stdout",
     "output_type": "stream",
     "text": [
      "Progress saved: 10 hotels processed\n"
     ]
    },
    {
     "name": "stderr",
     "output_type": "stream",
     "text": [
      "  1%|▏         | 14/1078 [00:38<47:40,  2.69s/it]"
     ]
    },
    {
     "name": "stdout",
     "output_type": "stream",
     "text": [
      "Progress saved: 15 hotels processed\n"
     ]
    },
    {
     "name": "stderr",
     "output_type": "stream",
     "text": [
      "  2%|▏         | 19/1078 [00:52<46:16,  2.62s/it]"
     ]
    },
    {
     "name": "stdout",
     "output_type": "stream",
     "text": [
      "Progress saved: 20 hotels processed\n"
     ]
    },
    {
     "name": "stderr",
     "output_type": "stream",
     "text": [
      "  2%|▏         | 24/1078 [01:05<45:17,  2.58s/it]"
     ]
    },
    {
     "name": "stdout",
     "output_type": "stream",
     "text": [
      "Progress saved: 25 hotels processed\n"
     ]
    },
    {
     "name": "stderr",
     "output_type": "stream",
     "text": [
      "  3%|▎         | 29/1078 [01:18<46:23,  2.65s/it]"
     ]
    },
    {
     "name": "stdout",
     "output_type": "stream",
     "text": [
      "Progress saved: 30 hotels processed\n"
     ]
    },
    {
     "name": "stderr",
     "output_type": "stream",
     "text": [
      "  3%|▎         | 34/1078 [01:30<41:32,  2.39s/it]"
     ]
    },
    {
     "name": "stdout",
     "output_type": "stream",
     "text": [
      "Progress saved: 35 hotels processed\n"
     ]
    },
    {
     "name": "stderr",
     "output_type": "stream",
     "text": [
      "  4%|▎         | 39/1078 [01:42<40:43,  2.35s/it]"
     ]
    },
    {
     "name": "stdout",
     "output_type": "stream",
     "text": [
      "Progress saved: 40 hotels processed\n"
     ]
    },
    {
     "name": "stderr",
     "output_type": "stream",
     "text": [
      "  4%|▍         | 44/1078 [01:54<42:17,  2.45s/it]"
     ]
    },
    {
     "name": "stdout",
     "output_type": "stream",
     "text": [
      "Progress saved: 45 hotels processed\n"
     ]
    },
    {
     "name": "stderr",
     "output_type": "stream",
     "text": [
      "  5%|▍         | 49/1078 [02:07<42:04,  2.45s/it]"
     ]
    },
    {
     "name": "stdout",
     "output_type": "stream",
     "text": [
      "Progress saved: 50 hotels processed\n"
     ]
    },
    {
     "name": "stderr",
     "output_type": "stream",
     "text": [
      "  5%|▌         | 54/1078 [02:19<41:07,  2.41s/it]"
     ]
    },
    {
     "name": "stdout",
     "output_type": "stream",
     "text": [
      "Progress saved: 55 hotels processed\n"
     ]
    },
    {
     "name": "stderr",
     "output_type": "stream",
     "text": [
      "  5%|▌         | 59/1078 [02:30<39:38,  2.33s/it]"
     ]
    },
    {
     "name": "stdout",
     "output_type": "stream",
     "text": [
      "Progress saved: 60 hotels processed\n"
     ]
    },
    {
     "name": "stderr",
     "output_type": "stream",
     "text": [
      "  6%|▌         | 64/1078 [02:43<45:02,  2.66s/it]"
     ]
    },
    {
     "name": "stdout",
     "output_type": "stream",
     "text": [
      "Progress saved: 65 hotels processed\n"
     ]
    },
    {
     "name": "stderr",
     "output_type": "stream",
     "text": [
      "  6%|▋         | 68/1078 [02:53<42:40,  2.54s/it]"
     ]
    },
    {
     "name": "stdout",
     "output_type": "stream",
     "text": [
      "Failed to parse JSON for DIAMOND RESIDENCE RATCHADA HOTEL. Raw response: ```json\n",
      "{\n",
      "    \"ownership\": \"Diamond Hospitality Group owns 100% of the hotel\",\n",
      "    \"management\": \"The property is self-managed\",\n",
      "    \"mission\": \"At Diamond Residence Ratchada Hotel, we sparkle with personalized service and create unforgettable experiences for every guest.\",\n",
      "    \"star_rating\": 4\n",
      "}\n",
      "```\n"
     ]
    },
    {
     "name": "stderr",
     "output_type": "stream",
     "text": [
      "  6%|▋         | 69/1078 [02:56<42:57,  2.55s/it]"
     ]
    },
    {
     "name": "stdout",
     "output_type": "stream",
     "text": [
      "Progress saved: 70 hotels processed\n"
     ]
    },
    {
     "name": "stderr",
     "output_type": "stream",
     "text": [
      "  7%|▋         | 74/1078 [03:08<42:33,  2.54s/it]"
     ]
    },
    {
     "name": "stdout",
     "output_type": "stream",
     "text": [
      "Progress saved: 75 hotels processed\n"
     ]
    },
    {
     "name": "stderr",
     "output_type": "stream",
     "text": [
      "  7%|▋         | 79/1078 [03:22<43:54,  2.64s/it]"
     ]
    },
    {
     "name": "stdout",
     "output_type": "stream",
     "text": [
      "Progress saved: 80 hotels processed\n"
     ]
    },
    {
     "name": "stderr",
     "output_type": "stream",
     "text": [
      "  8%|▊         | 84/1078 [03:34<42:27,  2.56s/it]"
     ]
    },
    {
     "name": "stdout",
     "output_type": "stream",
     "text": [
      "Progress saved: 85 hotels processed\n"
     ]
    },
    {
     "name": "stderr",
     "output_type": "stream",
     "text": [
      "  8%|▊         | 89/1078 [03:49<48:43,  2.96s/it]"
     ]
    },
    {
     "name": "stdout",
     "output_type": "stream",
     "text": [
      "Progress saved: 90 hotels processed\n"
     ]
    },
    {
     "name": "stderr",
     "output_type": "stream",
     "text": [
      "  9%|▊         | 94/1078 [04:02<43:35,  2.66s/it]"
     ]
    },
    {
     "name": "stdout",
     "output_type": "stream",
     "text": [
      "Progress saved: 95 hotels processed\n"
     ]
    },
    {
     "name": "stderr",
     "output_type": "stream",
     "text": [
      "  9%|▉         | 99/1078 [04:15<43:16,  2.65s/it]"
     ]
    },
    {
     "name": "stdout",
     "output_type": "stream",
     "text": [
      "Progress saved: 100 hotels processed\n"
     ]
    },
    {
     "name": "stderr",
     "output_type": "stream",
     "text": [
      " 10%|▉         | 104/1078 [04:28<41:37,  2.56s/it]"
     ]
    },
    {
     "name": "stdout",
     "output_type": "stream",
     "text": [
      "Progress saved: 105 hotels processed\n"
     ]
    },
    {
     "name": "stderr",
     "output_type": "stream",
     "text": [
      " 10%|█         | 109/1078 [04:41<42:42,  2.64s/it]"
     ]
    },
    {
     "name": "stdout",
     "output_type": "stream",
     "text": [
      "Progress saved: 110 hotels processed\n"
     ]
    },
    {
     "name": "stderr",
     "output_type": "stream",
     "text": [
      " 11%|█         | 114/1078 [04:53<40:17,  2.51s/it]"
     ]
    },
    {
     "name": "stdout",
     "output_type": "stream",
     "text": [
      "Progress saved: 115 hotels processed\n"
     ]
    },
    {
     "name": "stderr",
     "output_type": "stream",
     "text": [
      " 11%|█         | 119/1078 [05:06<41:46,  2.61s/it]"
     ]
    },
    {
     "name": "stdout",
     "output_type": "stream",
     "text": [
      "Progress saved: 120 hotels processed\n"
     ]
    },
    {
     "name": "stderr",
     "output_type": "stream",
     "text": [
      " 12%|█▏        | 124/1078 [05:19<40:44,  2.56s/it]"
     ]
    },
    {
     "name": "stdout",
     "output_type": "stream",
     "text": [
      "Progress saved: 125 hotels processed\n"
     ]
    },
    {
     "name": "stderr",
     "output_type": "stream",
     "text": [
      " 12%|█▏        | 129/1078 [05:32<38:34,  2.44s/it]"
     ]
    },
    {
     "name": "stdout",
     "output_type": "stream",
     "text": [
      "Progress saved: 130 hotels processed\n"
     ]
    },
    {
     "name": "stderr",
     "output_type": "stream",
     "text": [
      " 12%|█▏        | 134/1078 [05:45<42:13,  2.68s/it]"
     ]
    },
    {
     "name": "stdout",
     "output_type": "stream",
     "text": [
      "Progress saved: 135 hotels processed\n"
     ]
    },
    {
     "name": "stderr",
     "output_type": "stream",
     "text": [
      " 13%|█▎        | 139/1078 [05:58<41:21,  2.64s/it]"
     ]
    },
    {
     "name": "stdout",
     "output_type": "stream",
     "text": [
      "Progress saved: 140 hotels processed\n"
     ]
    },
    {
     "name": "stderr",
     "output_type": "stream",
     "text": [
      " 13%|█▎        | 144/1078 [06:11<40:50,  2.62s/it]"
     ]
    },
    {
     "name": "stdout",
     "output_type": "stream",
     "text": [
      "Progress saved: 145 hotels processed\n"
     ]
    },
    {
     "name": "stderr",
     "output_type": "stream",
     "text": [
      " 14%|█▍        | 149/1078 [06:25<43:01,  2.78s/it]"
     ]
    },
    {
     "name": "stdout",
     "output_type": "stream",
     "text": [
      "Progress saved: 150 hotels processed\n"
     ]
    },
    {
     "name": "stderr",
     "output_type": "stream",
     "text": [
      " 14%|█▍        | 154/1078 [06:37<39:22,  2.56s/it]"
     ]
    },
    {
     "name": "stdout",
     "output_type": "stream",
     "text": [
      "Progress saved: 155 hotels processed\n"
     ]
    },
    {
     "name": "stderr",
     "output_type": "stream",
     "text": [
      " 15%|█▍        | 159/1078 [06:50<38:17,  2.50s/it]"
     ]
    },
    {
     "name": "stdout",
     "output_type": "stream",
     "text": [
      "Progress saved: 160 hotels processed\n"
     ]
    },
    {
     "name": "stderr",
     "output_type": "stream",
     "text": [
      " 15%|█▌        | 164/1078 [07:03<40:17,  2.64s/it]"
     ]
    },
    {
     "name": "stdout",
     "output_type": "stream",
     "text": [
      "Progress saved: 165 hotels processed\n"
     ]
    },
    {
     "name": "stderr",
     "output_type": "stream",
     "text": [
      " 16%|█▌        | 169/1078 [07:16<37:56,  2.50s/it]"
     ]
    },
    {
     "name": "stdout",
     "output_type": "stream",
     "text": [
      "Progress saved: 170 hotels processed\n"
     ]
    },
    {
     "name": "stderr",
     "output_type": "stream",
     "text": [
      " 16%|█▌        | 174/1078 [07:28<38:36,  2.56s/it]"
     ]
    },
    {
     "name": "stdout",
     "output_type": "stream",
     "text": [
      "Progress saved: 175 hotels processed\n"
     ]
    },
    {
     "name": "stderr",
     "output_type": "stream",
     "text": [
      " 17%|█▋        | 179/1078 [07:40<35:28,  2.37s/it]"
     ]
    },
    {
     "name": "stdout",
     "output_type": "stream",
     "text": [
      "Progress saved: 180 hotels processed\n"
     ]
    },
    {
     "name": "stderr",
     "output_type": "stream",
     "text": [
      " 17%|█▋        | 184/1078 [07:53<35:35,  2.39s/it]"
     ]
    },
    {
     "name": "stdout",
     "output_type": "stream",
     "text": [
      "Progress saved: 185 hotels processed\n"
     ]
    },
    {
     "name": "stderr",
     "output_type": "stream",
     "text": [
      " 18%|█▊        | 189/1078 [08:05<36:17,  2.45s/it]"
     ]
    },
    {
     "name": "stdout",
     "output_type": "stream",
     "text": [
      "Progress saved: 190 hotels processed\n"
     ]
    },
    {
     "name": "stderr",
     "output_type": "stream",
     "text": [
      " 18%|█▊        | 194/1078 [08:17<36:25,  2.47s/it]"
     ]
    },
    {
     "name": "stdout",
     "output_type": "stream",
     "text": [
      "Progress saved: 195 hotels processed\n"
     ]
    },
    {
     "name": "stderr",
     "output_type": "stream",
     "text": [
      " 18%|█▊        | 199/1078 [08:30<37:07,  2.53s/it]"
     ]
    },
    {
     "name": "stdout",
     "output_type": "stream",
     "text": [
      "Progress saved: 200 hotels processed\n"
     ]
    },
    {
     "name": "stderr",
     "output_type": "stream",
     "text": [
      " 19%|█▉        | 204/1078 [08:44<39:31,  2.71s/it]"
     ]
    },
    {
     "name": "stdout",
     "output_type": "stream",
     "text": [
      "Progress saved: 205 hotels processed\n"
     ]
    },
    {
     "name": "stderr",
     "output_type": "stream",
     "text": [
      " 19%|█▉        | 209/1078 [09:01<49:41,  3.43s/it]"
     ]
    },
    {
     "name": "stdout",
     "output_type": "stream",
     "text": [
      "Progress saved: 210 hotels processed\n"
     ]
    },
    {
     "name": "stderr",
     "output_type": "stream",
     "text": [
      " 20%|█▉        | 212/1078 [09:08<40:06,  2.78s/it]"
     ]
    },
    {
     "name": "stdout",
     "output_type": "stream",
     "text": [
      "Failed to parse JSON for Q-BOX HOTEL BANGKOK BLOSSOM. Raw response: ```json\n",
      "{\n",
      "    \"ownership\": \"Q-Box Hotel Group - 100%\",\n",
      "    \"management\": \"Independent\",\n",
      "    \"mission\": \"Embrace the vibrant energy of Bangkok with a touch of tranquility at Q-Box Hotel Bangkok Blossom.\",\n",
      "    \"star_rating\": 4\n",
      "}\n",
      "```\n"
     ]
    },
    {
     "name": "stderr",
     "output_type": "stream",
     "text": [
      " 20%|█▉        | 214/1078 [09:14<39:27,  2.74s/it]"
     ]
    },
    {
     "name": "stdout",
     "output_type": "stream",
     "text": [
      "Progress saved: 215 hotels processed\n"
     ]
    },
    {
     "name": "stderr",
     "output_type": "stream",
     "text": [
      " 20%|██        | 219/1078 [09:27<38:58,  2.72s/it]"
     ]
    },
    {
     "name": "stdout",
     "output_type": "stream",
     "text": [
      "Progress saved: 220 hotels processed\n"
     ]
    },
    {
     "name": "stderr",
     "output_type": "stream",
     "text": [
      " 21%|██        | 224/1078 [09:43<42:43,  3.00s/it]"
     ]
    },
    {
     "name": "stdout",
     "output_type": "stream",
     "text": [
      "Progress saved: 225 hotels processed\n"
     ]
    },
    {
     "name": "stderr",
     "output_type": "stream",
     "text": [
      " 21%|██        | 229/1078 [09:59<48:18,  3.41s/it]"
     ]
    },
    {
     "name": "stdout",
     "output_type": "stream",
     "text": [
      "Progress saved: 230 hotels processed\n"
     ]
    },
    {
     "name": "stderr",
     "output_type": "stream",
     "text": [
      " 22%|██▏       | 234/1078 [10:16<48:47,  3.47s/it]"
     ]
    },
    {
     "name": "stdout",
     "output_type": "stream",
     "text": [
      "Progress saved: 235 hotels processed\n"
     ]
    },
    {
     "name": "stderr",
     "output_type": "stream",
     "text": [
      " 22%|██▏       | 239/1078 [10:32<45:37,  3.26s/it]"
     ]
    },
    {
     "name": "stdout",
     "output_type": "stream",
     "text": [
      "Progress saved: 240 hotels processed\n"
     ]
    },
    {
     "name": "stderr",
     "output_type": "stream",
     "text": [
      " 23%|██▎       | 244/1078 [10:48<45:49,  3.30s/it]"
     ]
    },
    {
     "name": "stdout",
     "output_type": "stream",
     "text": [
      "Progress saved: 245 hotels processed\n"
     ]
    },
    {
     "name": "stderr",
     "output_type": "stream",
     "text": [
      " 23%|██▎       | 249/1078 [11:05<45:47,  3.31s/it]"
     ]
    },
    {
     "name": "stdout",
     "output_type": "stream",
     "text": [
      "Progress saved: 250 hotels processed\n"
     ]
    },
    {
     "name": "stderr",
     "output_type": "stream",
     "text": [
      " 24%|██▎       | 254/1078 [11:21<43:13,  3.15s/it]"
     ]
    },
    {
     "name": "stdout",
     "output_type": "stream",
     "text": [
      "Progress saved: 255 hotels processed\n"
     ]
    },
    {
     "name": "stderr",
     "output_type": "stream",
     "text": [
      " 24%|██▍       | 259/1078 [11:36<41:34,  3.05s/it]"
     ]
    },
    {
     "name": "stdout",
     "output_type": "stream",
     "text": [
      "Progress saved: 260 hotels processed\n"
     ]
    },
    {
     "name": "stderr",
     "output_type": "stream",
     "text": [
      " 24%|██▍       | 264/1078 [11:51<40:55,  3.02s/it]"
     ]
    },
    {
     "name": "stdout",
     "output_type": "stream",
     "text": [
      "Progress saved: 265 hotels processed\n"
     ]
    },
    {
     "name": "stderr",
     "output_type": "stream",
     "text": [
      " 25%|██▍       | 269/1078 [12:07<42:17,  3.14s/it]"
     ]
    },
    {
     "name": "stdout",
     "output_type": "stream",
     "text": [
      "Progress saved: 270 hotels processed\n"
     ]
    },
    {
     "name": "stderr",
     "output_type": "stream",
     "text": [
      " 25%|██▌       | 274/1078 [12:24<45:06,  3.37s/it]"
     ]
    },
    {
     "name": "stdout",
     "output_type": "stream",
     "text": [
      "Progress saved: 275 hotels processed\n"
     ]
    },
    {
     "name": "stderr",
     "output_type": "stream",
     "text": [
      " 26%|██▌       | 279/1078 [12:39<37:53,  2.85s/it]"
     ]
    },
    {
     "name": "stdout",
     "output_type": "stream",
     "text": [
      "Progress saved: 280 hotels processed\n"
     ]
    },
    {
     "name": "stderr",
     "output_type": "stream",
     "text": [
      " 26%|██▋       | 284/1078 [12:52<36:15,  2.74s/it]"
     ]
    },
    {
     "name": "stdout",
     "output_type": "stream",
     "text": [
      "Progress saved: 285 hotels processed\n"
     ]
    },
    {
     "name": "stderr",
     "output_type": "stream",
     "text": [
      " 27%|██▋       | 289/1078 [13:10<47:11,  3.59s/it]"
     ]
    },
    {
     "name": "stdout",
     "output_type": "stream",
     "text": [
      "Progress saved: 290 hotels processed\n"
     ]
    },
    {
     "name": "stderr",
     "output_type": "stream",
     "text": [
      " 27%|██▋       | 294/1078 [13:26<42:34,  3.26s/it]"
     ]
    },
    {
     "name": "stdout",
     "output_type": "stream",
     "text": [
      "Progress saved: 295 hotels processed\n"
     ]
    },
    {
     "name": "stderr",
     "output_type": "stream",
     "text": [
      " 28%|██▊       | 299/1078 [13:42<43:47,  3.37s/it]"
     ]
    },
    {
     "name": "stdout",
     "output_type": "stream",
     "text": [
      "Progress saved: 300 hotels processed\n"
     ]
    },
    {
     "name": "stderr",
     "output_type": "stream",
     "text": [
      " 28%|██▊       | 304/1078 [13:59<42:56,  3.33s/it]"
     ]
    },
    {
     "name": "stdout",
     "output_type": "stream",
     "text": [
      "Progress saved: 305 hotels processed\n"
     ]
    },
    {
     "name": "stderr",
     "output_type": "stream",
     "text": [
      " 29%|██▊       | 309/1078 [14:15<41:14,  3.22s/it]"
     ]
    },
    {
     "name": "stdout",
     "output_type": "stream",
     "text": [
      "Progress saved: 310 hotels processed\n"
     ]
    },
    {
     "name": "stderr",
     "output_type": "stream",
     "text": [
      " 29%|██▉       | 314/1078 [14:30<39:56,  3.14s/it]"
     ]
    },
    {
     "name": "stdout",
     "output_type": "stream",
     "text": [
      "Progress saved: 315 hotels processed\n"
     ]
    },
    {
     "name": "stderr",
     "output_type": "stream",
     "text": [
      " 30%|██▉       | 319/1078 [14:43<33:16,  2.63s/it]"
     ]
    },
    {
     "name": "stdout",
     "output_type": "stream",
     "text": [
      "Progress saved: 320 hotels processed\n"
     ]
    },
    {
     "name": "stderr",
     "output_type": "stream",
     "text": [
      " 30%|███       | 324/1078 [14:57<34:19,  2.73s/it]"
     ]
    },
    {
     "name": "stdout",
     "output_type": "stream",
     "text": [
      "Progress saved: 325 hotels processed\n"
     ]
    },
    {
     "name": "stderr",
     "output_type": "stream",
     "text": [
      " 31%|███       | 329/1078 [15:11<36:33,  2.93s/it]"
     ]
    },
    {
     "name": "stdout",
     "output_type": "stream",
     "text": [
      "Progress saved: 330 hotels processed\n"
     ]
    },
    {
     "name": "stderr",
     "output_type": "stream",
     "text": [
      " 31%|███       | 334/1078 [15:25<35:46,  2.88s/it]"
     ]
    },
    {
     "name": "stdout",
     "output_type": "stream",
     "text": [
      "Progress saved: 335 hotels processed\n"
     ]
    },
    {
     "name": "stderr",
     "output_type": "stream",
     "text": [
      " 31%|███▏      | 339/1078 [15:38<32:45,  2.66s/it]"
     ]
    },
    {
     "name": "stdout",
     "output_type": "stream",
     "text": [
      "Progress saved: 340 hotels processed\n"
     ]
    },
    {
     "name": "stderr",
     "output_type": "stream",
     "text": [
      " 32%|███▏      | 344/1078 [15:51<32:33,  2.66s/it]"
     ]
    },
    {
     "name": "stdout",
     "output_type": "stream",
     "text": [
      "Progress saved: 345 hotels processed\n"
     ]
    },
    {
     "name": "stderr",
     "output_type": "stream",
     "text": [
      " 32%|███▏      | 349/1078 [16:05<33:46,  2.78s/it]"
     ]
    },
    {
     "name": "stdout",
     "output_type": "stream",
     "text": [
      "Progress saved: 350 hotels processed\n"
     ]
    },
    {
     "name": "stderr",
     "output_type": "stream",
     "text": [
      " 33%|███▎      | 354/1078 [16:19<33:28,  2.77s/it]"
     ]
    },
    {
     "name": "stdout",
     "output_type": "stream",
     "text": [
      "Progress saved: 355 hotels processed\n"
     ]
    },
    {
     "name": "stderr",
     "output_type": "stream",
     "text": [
      " 33%|███▎      | 359/1078 [16:32<33:24,  2.79s/it]"
     ]
    },
    {
     "name": "stdout",
     "output_type": "stream",
     "text": [
      "Progress saved: 360 hotels processed\n"
     ]
    },
    {
     "name": "stderr",
     "output_type": "stream",
     "text": [
      " 34%|███▍      | 364/1078 [16:45<31:02,  2.61s/it]"
     ]
    },
    {
     "name": "stdout",
     "output_type": "stream",
     "text": [
      "Progress saved: 365 hotels processed\n"
     ]
    },
    {
     "name": "stderr",
     "output_type": "stream",
     "text": [
      " 34%|███▍      | 369/1078 [16:59<31:44,  2.69s/it]"
     ]
    },
    {
     "name": "stdout",
     "output_type": "stream",
     "text": [
      "Progress saved: 370 hotels processed\n"
     ]
    },
    {
     "name": "stderr",
     "output_type": "stream",
     "text": [
      " 35%|███▍      | 374/1078 [17:12<31:51,  2.72s/it]"
     ]
    },
    {
     "name": "stdout",
     "output_type": "stream",
     "text": [
      "Progress saved: 375 hotels processed\n"
     ]
    },
    {
     "name": "stderr",
     "output_type": "stream",
     "text": [
      " 35%|███▌      | 379/1078 [17:26<32:19,  2.77s/it]"
     ]
    },
    {
     "name": "stdout",
     "output_type": "stream",
     "text": [
      "Progress saved: 380 hotels processed\n"
     ]
    },
    {
     "name": "stderr",
     "output_type": "stream",
     "text": [
      " 36%|███▌      | 384/1078 [17:40<32:07,  2.78s/it]"
     ]
    },
    {
     "name": "stdout",
     "output_type": "stream",
     "text": [
      "Progress saved: 385 hotels processed\n"
     ]
    },
    {
     "name": "stderr",
     "output_type": "stream",
     "text": [
      " 36%|███▌      | 389/1078 [17:54<30:42,  2.67s/it]"
     ]
    },
    {
     "name": "stdout",
     "output_type": "stream",
     "text": [
      "Progress saved: 390 hotels processed\n"
     ]
    },
    {
     "name": "stderr",
     "output_type": "stream",
     "text": [
      " 37%|███▋      | 394/1078 [18:08<33:28,  2.94s/it]"
     ]
    },
    {
     "name": "stdout",
     "output_type": "stream",
     "text": [
      "Progress saved: 395 hotels processed\n"
     ]
    },
    {
     "name": "stderr",
     "output_type": "stream",
     "text": [
      " 37%|███▋      | 397/1078 [18:16<31:39,  2.79s/it]"
     ]
    },
    {
     "name": "stdout",
     "output_type": "stream",
     "text": [
      "Failed to parse JSON for NOVOTEL SRIRACHA MARINA BAY. Raw response: ```json\n",
      "{\n",
      "    \"ownership\": \"AccorHotels, 100%\",\n",
      "    \"management\": \"AccorHotels\",\n",
      "    \"mission\": \"At Novotel Sriracha Marina Bay, we aim to redefine the essence of hospitality by blending modern comfort with authentic Thai charm, creating unforgettable experiences for every guest.\",\n",
      "    \"star_rating\": 4\n",
      "}\n",
      "```  \n"
     ]
    },
    {
     "name": "stderr",
     "output_type": "stream",
     "text": [
      " 37%|███▋      | 399/1078 [18:22<31:00,  2.74s/it]"
     ]
    },
    {
     "name": "stdout",
     "output_type": "stream",
     "text": [
      "Progress saved: 400 hotels processed\n"
     ]
    },
    {
     "name": "stderr",
     "output_type": "stream",
     "text": [
      " 37%|███▋      | 404/1078 [18:35<30:08,  2.68s/it]"
     ]
    },
    {
     "name": "stdout",
     "output_type": "stream",
     "text": [
      "Progress saved: 405 hotels processed\n"
     ]
    },
    {
     "name": "stderr",
     "output_type": "stream",
     "text": [
      " 38%|███▊      | 409/1078 [18:49<29:23,  2.64s/it]"
     ]
    },
    {
     "name": "stdout",
     "output_type": "stream",
     "text": [
      "Progress saved: 410 hotels processed\n"
     ]
    },
    {
     "name": "stderr",
     "output_type": "stream",
     "text": [
      " 38%|███▊      | 414/1078 [19:01<27:45,  2.51s/it]"
     ]
    },
    {
     "name": "stdout",
     "output_type": "stream",
     "text": [
      "Progress saved: 415 hotels processed\n"
     ]
    },
    {
     "name": "stderr",
     "output_type": "stream",
     "text": [
      " 39%|███▉      | 419/1078 [19:14<27:21,  2.49s/it]"
     ]
    },
    {
     "name": "stdout",
     "output_type": "stream",
     "text": [
      "Progress saved: 420 hotels processed\n"
     ]
    },
    {
     "name": "stderr",
     "output_type": "stream",
     "text": [
      " 39%|███▉      | 424/1078 [19:27<27:48,  2.55s/it]"
     ]
    },
    {
     "name": "stdout",
     "output_type": "stream",
     "text": [
      "Progress saved: 425 hotels processed\n"
     ]
    },
    {
     "name": "stderr",
     "output_type": "stream",
     "text": [
      " 40%|███▉      | 429/1078 [19:40<28:40,  2.65s/it]"
     ]
    },
    {
     "name": "stdout",
     "output_type": "stream",
     "text": [
      "Progress saved: 430 hotels processed\n"
     ]
    },
    {
     "name": "stderr",
     "output_type": "stream",
     "text": [
      " 40%|████      | 434/1078 [19:53<29:05,  2.71s/it]"
     ]
    },
    {
     "name": "stdout",
     "output_type": "stream",
     "text": [
      "Progress saved: 435 hotels processed\n"
     ]
    },
    {
     "name": "stderr",
     "output_type": "stream",
     "text": [
      " 41%|████      | 439/1078 [20:06<27:20,  2.57s/it]"
     ]
    },
    {
     "name": "stdout",
     "output_type": "stream",
     "text": [
      "Progress saved: 440 hotels processed\n"
     ]
    },
    {
     "name": "stderr",
     "output_type": "stream",
     "text": [
      " 41%|████      | 444/1078 [20:19<27:23,  2.59s/it]"
     ]
    },
    {
     "name": "stdout",
     "output_type": "stream",
     "text": [
      "Progress saved: 445 hotels processed\n"
     ]
    },
    {
     "name": "stderr",
     "output_type": "stream",
     "text": [
      " 42%|████▏     | 449/1078 [20:32<27:13,  2.60s/it]"
     ]
    },
    {
     "name": "stdout",
     "output_type": "stream",
     "text": [
      "Progress saved: 450 hotels processed\n"
     ]
    },
    {
     "name": "stderr",
     "output_type": "stream",
     "text": [
      " 42%|████▏     | 454/1078 [20:46<27:46,  2.67s/it]"
     ]
    },
    {
     "name": "stdout",
     "output_type": "stream",
     "text": [
      "Progress saved: 455 hotels processed\n"
     ]
    },
    {
     "name": "stderr",
     "output_type": "stream",
     "text": [
      " 43%|████▎     | 459/1078 [20:58<26:01,  2.52s/it]"
     ]
    },
    {
     "name": "stdout",
     "output_type": "stream",
     "text": [
      "Progress saved: 460 hotels processed\n"
     ]
    },
    {
     "name": "stderr",
     "output_type": "stream",
     "text": [
      " 43%|████▎     | 464/1078 [21:11<25:52,  2.53s/it]"
     ]
    },
    {
     "name": "stdout",
     "output_type": "stream",
     "text": [
      "Progress saved: 465 hotels processed\n"
     ]
    },
    {
     "name": "stderr",
     "output_type": "stream",
     "text": [
      " 44%|████▎     | 469/1078 [21:28<32:35,  3.21s/it]"
     ]
    },
    {
     "name": "stdout",
     "output_type": "stream",
     "text": [
      "Progress saved: 470 hotels processed\n"
     ]
    },
    {
     "name": "stderr",
     "output_type": "stream",
     "text": [
      " 44%|████▍     | 474/1078 [21:42<27:44,  2.76s/it]"
     ]
    },
    {
     "name": "stdout",
     "output_type": "stream",
     "text": [
      "Progress saved: 475 hotels processed\n"
     ]
    },
    {
     "name": "stderr",
     "output_type": "stream",
     "text": [
      " 44%|████▍     | 479/1078 [21:55<25:45,  2.58s/it]"
     ]
    },
    {
     "name": "stdout",
     "output_type": "stream",
     "text": [
      "Progress saved: 480 hotels processed\n"
     ]
    },
    {
     "name": "stderr",
     "output_type": "stream",
     "text": [
      " 45%|████▍     | 484/1078 [22:07<24:33,  2.48s/it]"
     ]
    },
    {
     "name": "stdout",
     "output_type": "stream",
     "text": [
      "Progress saved: 485 hotels processed\n"
     ]
    },
    {
     "name": "stderr",
     "output_type": "stream",
     "text": [
      " 45%|████▌     | 489/1078 [22:19<24:03,  2.45s/it]"
     ]
    },
    {
     "name": "stdout",
     "output_type": "stream",
     "text": [
      "Progress saved: 490 hotels processed\n"
     ]
    },
    {
     "name": "stderr",
     "output_type": "stream",
     "text": [
      " 46%|████▌     | 494/1078 [22:32<25:00,  2.57s/it]"
     ]
    },
    {
     "name": "stdout",
     "output_type": "stream",
     "text": [
      "Failed to parse JSON for MARRAKESH HUA HIN RESORT AND SPA. Raw response: ```json\n",
      "{\n",
      "    \"ownership\": \"Marrakesh Group owns 70% of the hotel\",\n",
      "    \"management\": \"Managed by Marrakesh Hospitality Management\",\n",
      "    \"mission\": \"Where Moroccan elegance meets Thai hospitality - your oasis of relaxation and luxury\",\n",
      "    \"star_rating\": 4\n",
      "}\n",
      "```\n",
      "Progress saved: 495 hotels processed\n"
     ]
    },
    {
     "name": "stderr",
     "output_type": "stream",
     "text": [
      " 46%|████▋     | 499/1078 [22:44<24:03,  2.49s/it]"
     ]
    },
    {
     "name": "stdout",
     "output_type": "stream",
     "text": [
      "Progress saved: 500 hotels processed\n"
     ]
    },
    {
     "name": "stderr",
     "output_type": "stream",
     "text": [
      " 47%|████▋     | 504/1078 [22:58<26:15,  2.75s/it]"
     ]
    },
    {
     "name": "stdout",
     "output_type": "stream",
     "text": [
      "Progress saved: 505 hotels processed\n"
     ]
    },
    {
     "name": "stderr",
     "output_type": "stream",
     "text": [
      " 47%|████▋     | 509/1078 [23:10<24:27,  2.58s/it]"
     ]
    },
    {
     "name": "stdout",
     "output_type": "stream",
     "text": [
      "Progress saved: 510 hotels processed\n"
     ]
    },
    {
     "name": "stderr",
     "output_type": "stream",
     "text": [
      " 48%|████▊     | 514/1078 [23:24<24:51,  2.64s/it]"
     ]
    },
    {
     "name": "stdout",
     "output_type": "stream",
     "text": [
      "Progress saved: 515 hotels processed\n"
     ]
    },
    {
     "name": "stderr",
     "output_type": "stream",
     "text": [
      " 48%|████▊     | 519/1078 [23:36<23:26,  2.52s/it]"
     ]
    },
    {
     "name": "stdout",
     "output_type": "stream",
     "text": [
      "Progress saved: 520 hotels processed\n"
     ]
    },
    {
     "name": "stderr",
     "output_type": "stream",
     "text": [
      " 49%|████▊     | 524/1078 [23:49<23:14,  2.52s/it]"
     ]
    },
    {
     "name": "stdout",
     "output_type": "stream",
     "text": [
      "Progress saved: 525 hotels processed\n"
     ]
    },
    {
     "name": "stderr",
     "output_type": "stream",
     "text": [
      " 49%|████▉     | 529/1078 [24:02<23:37,  2.58s/it]"
     ]
    },
    {
     "name": "stdout",
     "output_type": "stream",
     "text": [
      "Progress saved: 530 hotels processed\n"
     ]
    },
    {
     "name": "stderr",
     "output_type": "stream",
     "text": [
      " 50%|████▉     | 534/1078 [24:14<22:21,  2.47s/it]"
     ]
    },
    {
     "name": "stdout",
     "output_type": "stream",
     "text": [
      "Progress saved: 535 hotels processed\n"
     ]
    },
    {
     "name": "stderr",
     "output_type": "stream",
     "text": [
      " 50%|█████     | 539/1078 [24:29<27:38,  3.08s/it]"
     ]
    },
    {
     "name": "stdout",
     "output_type": "stream",
     "text": [
      "Progress saved: 540 hotels processed\n"
     ]
    },
    {
     "name": "stderr",
     "output_type": "stream",
     "text": [
      " 50%|█████     | 544/1078 [24:42<23:37,  2.65s/it]"
     ]
    },
    {
     "name": "stdout",
     "output_type": "stream",
     "text": [
      "Progress saved: 545 hotels processed\n"
     ]
    },
    {
     "name": "stderr",
     "output_type": "stream",
     "text": [
      " 51%|█████     | 549/1078 [42:56<16:45:39, 114.06s/it]"
     ]
    },
    {
     "name": "stdout",
     "output_type": "stream",
     "text": [
      "Progress saved: 550 hotels processed\n"
     ]
    },
    {
     "name": "stderr",
     "output_type": "stream",
     "text": [
      " 51%|█████▏    | 554/1078 [43:10<3:07:16, 21.44s/it]  "
     ]
    },
    {
     "name": "stdout",
     "output_type": "stream",
     "text": [
      "Progress saved: 555 hotels processed\n"
     ]
    },
    {
     "name": "stderr",
     "output_type": "stream",
     "text": [
      " 52%|█████▏    | 559/1078 [43:23<50:27,  5.83s/it]  "
     ]
    },
    {
     "name": "stdout",
     "output_type": "stream",
     "text": [
      "Progress saved: 560 hotels processed\n"
     ]
    },
    {
     "name": "stderr",
     "output_type": "stream",
     "text": [
      " 52%|█████▏    | 564/1078 [43:36<26:15,  3.07s/it]"
     ]
    },
    {
     "name": "stdout",
     "output_type": "stream",
     "text": [
      "Progress saved: 565 hotels processed\n"
     ]
    },
    {
     "name": "stderr",
     "output_type": "stream",
     "text": [
      " 53%|█████▎    | 569/1078 [43:49<23:07,  2.73s/it]"
     ]
    },
    {
     "name": "stdout",
     "output_type": "stream",
     "text": [
      "Progress saved: 570 hotels processed\n"
     ]
    },
    {
     "name": "stderr",
     "output_type": "stream",
     "text": [
      " 53%|█████▎    | 574/1078 [44:01<20:46,  2.47s/it]"
     ]
    },
    {
     "name": "stdout",
     "output_type": "stream",
     "text": [
      "Progress saved: 575 hotels processed\n"
     ]
    },
    {
     "name": "stderr",
     "output_type": "stream",
     "text": [
      " 54%|█████▎    | 579/1078 [44:15<21:30,  2.59s/it]"
     ]
    },
    {
     "name": "stdout",
     "output_type": "stream",
     "text": [
      "Progress saved: 580 hotels processed\n"
     ]
    },
    {
     "name": "stderr",
     "output_type": "stream",
     "text": [
      " 54%|█████▍    | 584/1078 [44:27<20:46,  2.52s/it]"
     ]
    },
    {
     "name": "stdout",
     "output_type": "stream",
     "text": [
      "Progress saved: 585 hotels processed\n"
     ]
    },
    {
     "name": "stderr",
     "output_type": "stream",
     "text": [
      " 55%|█████▍    | 589/1078 [44:41<23:16,  2.86s/it]"
     ]
    },
    {
     "name": "stdout",
     "output_type": "stream",
     "text": [
      "Progress saved: 590 hotels processed\n"
     ]
    },
    {
     "name": "stderr",
     "output_type": "stream",
     "text": [
      " 55%|█████▌    | 594/1078 [44:54<21:00,  2.61s/it]"
     ]
    },
    {
     "name": "stdout",
     "output_type": "stream",
     "text": [
      "Progress saved: 595 hotels processed\n"
     ]
    },
    {
     "name": "stderr",
     "output_type": "stream",
     "text": [
      " 56%|█████▌    | 599/1078 [45:07<20:32,  2.57s/it]"
     ]
    },
    {
     "name": "stdout",
     "output_type": "stream",
     "text": [
      "Progress saved: 600 hotels processed\n"
     ]
    },
    {
     "name": "stderr",
     "output_type": "stream",
     "text": [
      " 56%|█████▌    | 604/1078 [45:20<19:44,  2.50s/it]"
     ]
    },
    {
     "name": "stdout",
     "output_type": "stream",
     "text": [
      "Progress saved: 605 hotels processed\n"
     ]
    },
    {
     "name": "stderr",
     "output_type": "stream",
     "text": [
      " 56%|█████▋    | 609/1078 [45:33<21:05,  2.70s/it]"
     ]
    },
    {
     "name": "stdout",
     "output_type": "stream",
     "text": [
      "Progress saved: 610 hotels processed\n"
     ]
    },
    {
     "name": "stderr",
     "output_type": "stream",
     "text": [
      " 57%|█████▋    | 614/1078 [45:47<21:00,  2.72s/it]"
     ]
    },
    {
     "name": "stdout",
     "output_type": "stream",
     "text": [
      "Progress saved: 615 hotels processed\n"
     ]
    },
    {
     "name": "stderr",
     "output_type": "stream",
     "text": [
      " 57%|█████▋    | 619/1078 [45:59<19:30,  2.55s/it]"
     ]
    },
    {
     "name": "stdout",
     "output_type": "stream",
     "text": [
      "Progress saved: 620 hotels processed\n"
     ]
    },
    {
     "name": "stderr",
     "output_type": "stream",
     "text": [
      " 58%|█████▊    | 624/1078 [46:12<19:10,  2.53s/it]"
     ]
    },
    {
     "name": "stdout",
     "output_type": "stream",
     "text": [
      "Progress saved: 625 hotels processed\n"
     ]
    },
    {
     "name": "stderr",
     "output_type": "stream",
     "text": [
      " 58%|█████▊    | 629/1078 [46:25<19:15,  2.57s/it]"
     ]
    },
    {
     "name": "stdout",
     "output_type": "stream",
     "text": [
      "Progress saved: 630 hotels processed\n"
     ]
    },
    {
     "name": "stderr",
     "output_type": "stream",
     "text": [
      " 59%|█████▉    | 634/1078 [46:39<20:16,  2.74s/it]"
     ]
    },
    {
     "name": "stdout",
     "output_type": "stream",
     "text": [
      "Progress saved: 635 hotels processed\n"
     ]
    },
    {
     "name": "stderr",
     "output_type": "stream",
     "text": [
      " 59%|█████▉    | 639/1078 [46:53<20:05,  2.75s/it]"
     ]
    },
    {
     "name": "stdout",
     "output_type": "stream",
     "text": [
      "Progress saved: 640 hotels processed\n"
     ]
    },
    {
     "name": "stderr",
     "output_type": "stream",
     "text": [
      " 60%|█████▉    | 644/1078 [47:06<18:40,  2.58s/it]"
     ]
    },
    {
     "name": "stdout",
     "output_type": "stream",
     "text": [
      "Progress saved: 645 hotels processed\n"
     ]
    },
    {
     "name": "stderr",
     "output_type": "stream",
     "text": [
      " 60%|██████    | 649/1078 [47:19<18:13,  2.55s/it]"
     ]
    },
    {
     "name": "stdout",
     "output_type": "stream",
     "text": [
      "Progress saved: 650 hotels processed\n"
     ]
    },
    {
     "name": "stderr",
     "output_type": "stream",
     "text": [
      " 61%|██████    | 654/1078 [47:31<17:30,  2.48s/it]"
     ]
    },
    {
     "name": "stdout",
     "output_type": "stream",
     "text": [
      "Progress saved: 655 hotels processed\n"
     ]
    },
    {
     "name": "stderr",
     "output_type": "stream",
     "text": [
      " 61%|██████    | 659/1078 [47:45<18:24,  2.64s/it]"
     ]
    },
    {
     "name": "stdout",
     "output_type": "stream",
     "text": [
      "Progress saved: 660 hotels processed\n"
     ]
    },
    {
     "name": "stderr",
     "output_type": "stream",
     "text": [
      " 62%|██████▏   | 664/1078 [47:58<18:05,  2.62s/it]"
     ]
    },
    {
     "name": "stdout",
     "output_type": "stream",
     "text": [
      "Progress saved: 665 hotels processed\n"
     ]
    },
    {
     "name": "stderr",
     "output_type": "stream",
     "text": [
      " 62%|██████▏   | 669/1078 [48:10<16:48,  2.47s/it]"
     ]
    },
    {
     "name": "stdout",
     "output_type": "stream",
     "text": [
      "Progress saved: 670 hotels processed\n"
     ]
    },
    {
     "name": "stderr",
     "output_type": "stream",
     "text": [
      " 63%|██████▎   | 674/1078 [48:23<17:21,  2.58s/it]"
     ]
    },
    {
     "name": "stdout",
     "output_type": "stream",
     "text": [
      "Progress saved: 675 hotels processed\n"
     ]
    },
    {
     "name": "stderr",
     "output_type": "stream",
     "text": [
      " 63%|██████▎   | 679/1078 [48:35<16:11,  2.44s/it]"
     ]
    },
    {
     "name": "stdout",
     "output_type": "stream",
     "text": [
      "Progress saved: 680 hotels processed\n"
     ]
    },
    {
     "name": "stderr",
     "output_type": "stream",
     "text": [
      " 63%|██████▎   | 684/1078 [48:48<16:55,  2.58s/it]"
     ]
    },
    {
     "name": "stdout",
     "output_type": "stream",
     "text": [
      "Progress saved: 685 hotels processed\n"
     ]
    },
    {
     "name": "stderr",
     "output_type": "stream",
     "text": [
      " 64%|██████▍   | 689/1078 [49:03<18:49,  2.90s/it]"
     ]
    },
    {
     "name": "stdout",
     "output_type": "stream",
     "text": [
      "Progress saved: 690 hotels processed\n"
     ]
    },
    {
     "name": "stderr",
     "output_type": "stream",
     "text": [
      " 64%|██████▍   | 694/1078 [49:16<17:47,  2.78s/it]"
     ]
    },
    {
     "name": "stdout",
     "output_type": "stream",
     "text": [
      "Progress saved: 695 hotels processed\n"
     ]
    },
    {
     "name": "stderr",
     "output_type": "stream",
     "text": [
      " 65%|██████▍   | 699/1078 [49:30<17:34,  2.78s/it]"
     ]
    },
    {
     "name": "stdout",
     "output_type": "stream",
     "text": [
      "Progress saved: 700 hotels processed\n"
     ]
    },
    {
     "name": "stderr",
     "output_type": "stream",
     "text": [
      " 65%|██████▌   | 704/1078 [49:43<15:33,  2.50s/it]"
     ]
    },
    {
     "name": "stdout",
     "output_type": "stream",
     "text": [
      "Progress saved: 705 hotels processed\n"
     ]
    },
    {
     "name": "stderr",
     "output_type": "stream",
     "text": [
      " 66%|██████▌   | 709/1078 [49:56<16:04,  2.61s/it]"
     ]
    },
    {
     "name": "stdout",
     "output_type": "stream",
     "text": [
      "Progress saved: 710 hotels processed\n"
     ]
    },
    {
     "name": "stderr",
     "output_type": "stream",
     "text": [
      " 66%|██████▌   | 714/1078 [50:09<15:49,  2.61s/it]"
     ]
    },
    {
     "name": "stdout",
     "output_type": "stream",
     "text": [
      "Progress saved: 715 hotels processed\n"
     ]
    },
    {
     "name": "stderr",
     "output_type": "stream",
     "text": [
      " 67%|██████▋   | 719/1078 [50:22<15:52,  2.65s/it]"
     ]
    },
    {
     "name": "stdout",
     "output_type": "stream",
     "text": [
      "Progress saved: 720 hotels processed\n"
     ]
    },
    {
     "name": "stderr",
     "output_type": "stream",
     "text": [
      " 67%|██████▋   | 724/1078 [50:36<15:35,  2.64s/it]"
     ]
    },
    {
     "name": "stdout",
     "output_type": "stream",
     "text": [
      "Progress saved: 725 hotels processed\n"
     ]
    },
    {
     "name": "stderr",
     "output_type": "stream",
     "text": [
      " 68%|██████▊   | 729/1078 [50:48<15:14,  2.62s/it]"
     ]
    },
    {
     "name": "stdout",
     "output_type": "stream",
     "text": [
      "Progress saved: 730 hotels processed\n"
     ]
    },
    {
     "name": "stderr",
     "output_type": "stream",
     "text": [
      " 68%|██████▊   | 734/1078 [51:01<14:17,  2.49s/it]"
     ]
    },
    {
     "name": "stdout",
     "output_type": "stream",
     "text": [
      "Progress saved: 735 hotels processed\n"
     ]
    },
    {
     "name": "stderr",
     "output_type": "stream",
     "text": [
      " 69%|██████▊   | 739/1078 [51:14<15:07,  2.68s/it]"
     ]
    },
    {
     "name": "stdout",
     "output_type": "stream",
     "text": [
      "Progress saved: 740 hotels processed\n"
     ]
    },
    {
     "name": "stderr",
     "output_type": "stream",
     "text": [
      " 69%|██████▉   | 744/1078 [51:27<14:27,  2.60s/it]"
     ]
    },
    {
     "name": "stdout",
     "output_type": "stream",
     "text": [
      "Progress saved: 745 hotels processed\n"
     ]
    },
    {
     "name": "stderr",
     "output_type": "stream",
     "text": [
      " 69%|██████▉   | 749/1078 [51:40<13:44,  2.51s/it]"
     ]
    },
    {
     "name": "stdout",
     "output_type": "stream",
     "text": [
      "Progress saved: 750 hotels processed\n"
     ]
    },
    {
     "name": "stderr",
     "output_type": "stream",
     "text": [
      " 70%|██████▉   | 754/1078 [51:52<13:46,  2.55s/it]"
     ]
    },
    {
     "name": "stdout",
     "output_type": "stream",
     "text": [
      "Progress saved: 755 hotels processed\n"
     ]
    },
    {
     "name": "stderr",
     "output_type": "stream",
     "text": [
      " 70%|███████   | 759/1078 [52:06<13:53,  2.61s/it]"
     ]
    },
    {
     "name": "stdout",
     "output_type": "stream",
     "text": [
      "Progress saved: 760 hotels processed\n"
     ]
    },
    {
     "name": "stderr",
     "output_type": "stream",
     "text": [
      " 71%|███████   | 764/1078 [52:19<13:34,  2.60s/it]"
     ]
    },
    {
     "name": "stdout",
     "output_type": "stream",
     "text": [
      "Progress saved: 765 hotels processed\n"
     ]
    },
    {
     "name": "stderr",
     "output_type": "stream",
     "text": [
      " 71%|███████▏  | 769/1078 [52:32<14:00,  2.72s/it]"
     ]
    },
    {
     "name": "stdout",
     "output_type": "stream",
     "text": [
      "Progress saved: 770 hotels processed\n"
     ]
    },
    {
     "name": "stderr",
     "output_type": "stream",
     "text": [
      " 72%|███████▏  | 774/1078 [52:45<13:49,  2.73s/it]"
     ]
    },
    {
     "name": "stdout",
     "output_type": "stream",
     "text": [
      "Progress saved: 775 hotels processed\n"
     ]
    },
    {
     "name": "stderr",
     "output_type": "stream",
     "text": [
      " 72%|███████▏  | 779/1078 [52:58<13:29,  2.71s/it]"
     ]
    },
    {
     "name": "stdout",
     "output_type": "stream",
     "text": [
      "Progress saved: 780 hotels processed\n"
     ]
    },
    {
     "name": "stderr",
     "output_type": "stream",
     "text": [
      " 73%|███████▎  | 784/1078 [53:12<13:25,  2.74s/it]"
     ]
    },
    {
     "name": "stdout",
     "output_type": "stream",
     "text": [
      "Progress saved: 785 hotels processed\n"
     ]
    },
    {
     "name": "stderr",
     "output_type": "stream",
     "text": [
      " 73%|███████▎  | 789/1078 [53:26<13:35,  2.82s/it]"
     ]
    },
    {
     "name": "stdout",
     "output_type": "stream",
     "text": [
      "Progress saved: 790 hotels processed\n"
     ]
    },
    {
     "name": "stderr",
     "output_type": "stream",
     "text": [
      " 74%|███████▎  | 794/1078 [53:39<12:53,  2.72s/it]"
     ]
    },
    {
     "name": "stdout",
     "output_type": "stream",
     "text": [
      "Progress saved: 795 hotels processed\n"
     ]
    },
    {
     "name": "stderr",
     "output_type": "stream",
     "text": [
      " 74%|███████▍  | 799/1078 [53:53<11:56,  2.57s/it]"
     ]
    },
    {
     "name": "stdout",
     "output_type": "stream",
     "text": [
      "Progress saved: 800 hotels processed\n"
     ]
    },
    {
     "name": "stderr",
     "output_type": "stream",
     "text": [
      " 75%|███████▍  | 804/1078 [54:06<12:10,  2.67s/it]"
     ]
    },
    {
     "name": "stdout",
     "output_type": "stream",
     "text": [
      "Progress saved: 805 hotels processed\n"
     ]
    },
    {
     "name": "stderr",
     "output_type": "stream",
     "text": [
      " 75%|███████▌  | 809/1078 [54:19<11:38,  2.60s/it]"
     ]
    },
    {
     "name": "stdout",
     "output_type": "stream",
     "text": [
      "Progress saved: 810 hotels processed\n"
     ]
    },
    {
     "name": "stderr",
     "output_type": "stream",
     "text": [
      " 76%|███████▌  | 814/1078 [54:31<10:49,  2.46s/it]"
     ]
    },
    {
     "name": "stdout",
     "output_type": "stream",
     "text": [
      "Progress saved: 815 hotels processed\n"
     ]
    },
    {
     "name": "stderr",
     "output_type": "stream",
     "text": [
      " 76%|███████▌  | 819/1078 [54:44<11:45,  2.72s/it]"
     ]
    },
    {
     "name": "stdout",
     "output_type": "stream",
     "text": [
      "Progress saved: 820 hotels processed\n"
     ]
    },
    {
     "name": "stderr",
     "output_type": "stream",
     "text": [
      " 76%|███████▋  | 824/1078 [54:57<11:07,  2.63s/it]"
     ]
    },
    {
     "name": "stdout",
     "output_type": "stream",
     "text": [
      "Progress saved: 825 hotels processed\n"
     ]
    },
    {
     "name": "stderr",
     "output_type": "stream",
     "text": [
      " 77%|███████▋  | 829/1078 [55:09<10:35,  2.55s/it]"
     ]
    },
    {
     "name": "stdout",
     "output_type": "stream",
     "text": [
      "Progress saved: 830 hotels processed\n"
     ]
    },
    {
     "name": "stderr",
     "output_type": "stream",
     "text": [
      " 77%|███████▋  | 834/1078 [55:23<10:39,  2.62s/it]"
     ]
    },
    {
     "name": "stdout",
     "output_type": "stream",
     "text": [
      "Progress saved: 835 hotels processed\n"
     ]
    },
    {
     "name": "stderr",
     "output_type": "stream",
     "text": [
      " 78%|███████▊  | 839/1078 [55:35<10:11,  2.56s/it]"
     ]
    },
    {
     "name": "stdout",
     "output_type": "stream",
     "text": [
      "Progress saved: 840 hotels processed\n"
     ]
    },
    {
     "name": "stderr",
     "output_type": "stream",
     "text": [
      " 78%|███████▊  | 844/1078 [55:49<10:32,  2.70s/it]"
     ]
    },
    {
     "name": "stdout",
     "output_type": "stream",
     "text": [
      "Progress saved: 845 hotels processed\n"
     ]
    },
    {
     "name": "stderr",
     "output_type": "stream",
     "text": [
      " 79%|███████▉  | 849/1078 [56:01<09:50,  2.58s/it]"
     ]
    },
    {
     "name": "stdout",
     "output_type": "stream",
     "text": [
      "Progress saved: 850 hotels processed\n"
     ]
    },
    {
     "name": "stderr",
     "output_type": "stream",
     "text": [
      " 79%|███████▉  | 854/1078 [56:14<09:24,  2.52s/it]"
     ]
    },
    {
     "name": "stdout",
     "output_type": "stream",
     "text": [
      "Progress saved: 855 hotels processed\n"
     ]
    },
    {
     "name": "stderr",
     "output_type": "stream",
     "text": [
      " 80%|███████▉  | 859/1078 [56:28<09:36,  2.63s/it]"
     ]
    },
    {
     "name": "stdout",
     "output_type": "stream",
     "text": [
      "Progress saved: 860 hotels processed\n"
     ]
    },
    {
     "name": "stderr",
     "output_type": "stream",
     "text": [
      " 80%|████████  | 864/1078 [56:41<09:24,  2.64s/it]"
     ]
    },
    {
     "name": "stdout",
     "output_type": "stream",
     "text": [
      "Progress saved: 865 hotels processed\n"
     ]
    },
    {
     "name": "stderr",
     "output_type": "stream",
     "text": [
      " 81%|████████  | 869/1078 [56:54<08:50,  2.54s/it]"
     ]
    },
    {
     "name": "stdout",
     "output_type": "stream",
     "text": [
      "Progress saved: 870 hotels processed\n"
     ]
    },
    {
     "name": "stderr",
     "output_type": "stream",
     "text": [
      " 81%|████████  | 874/1078 [57:07<08:29,  2.50s/it]"
     ]
    },
    {
     "name": "stdout",
     "output_type": "stream",
     "text": [
      "Progress saved: 875 hotels processed\n"
     ]
    },
    {
     "name": "stderr",
     "output_type": "stream",
     "text": [
      " 82%|████████▏ | 879/1078 [57:20<08:22,  2.53s/it]"
     ]
    },
    {
     "name": "stdout",
     "output_type": "stream",
     "text": [
      "Progress saved: 880 hotels processed\n"
     ]
    },
    {
     "name": "stderr",
     "output_type": "stream",
     "text": [
      " 82%|████████▏ | 884/1078 [57:33<08:43,  2.70s/it]"
     ]
    },
    {
     "name": "stdout",
     "output_type": "stream",
     "text": [
      "Progress saved: 885 hotels processed\n"
     ]
    },
    {
     "name": "stderr",
     "output_type": "stream",
     "text": [
      " 82%|████████▏ | 889/1078 [57:49<09:09,  2.91s/it]"
     ]
    },
    {
     "name": "stdout",
     "output_type": "stream",
     "text": [
      "Progress saved: 890 hotels processed\n"
     ]
    },
    {
     "name": "stderr",
     "output_type": "stream",
     "text": [
      " 83%|████████▎ | 894/1078 [58:02<08:20,  2.72s/it]"
     ]
    },
    {
     "name": "stdout",
     "output_type": "stream",
     "text": [
      "Progress saved: 895 hotels processed\n"
     ]
    },
    {
     "name": "stderr",
     "output_type": "stream",
     "text": [
      " 83%|████████▎ | 899/1078 [58:18<08:36,  2.89s/it]"
     ]
    },
    {
     "name": "stdout",
     "output_type": "stream",
     "text": [
      "Progress saved: 900 hotels processed\n"
     ]
    },
    {
     "name": "stderr",
     "output_type": "stream",
     "text": [
      " 84%|████████▍ | 904/1078 [58:31<07:39,  2.64s/it]"
     ]
    },
    {
     "name": "stdout",
     "output_type": "stream",
     "text": [
      "Progress saved: 905 hotels processed\n"
     ]
    },
    {
     "name": "stderr",
     "output_type": "stream",
     "text": [
      " 84%|████████▍ | 909/1078 [58:43<07:14,  2.57s/it]"
     ]
    },
    {
     "name": "stdout",
     "output_type": "stream",
     "text": [
      "Progress saved: 910 hotels processed\n"
     ]
    },
    {
     "name": "stderr",
     "output_type": "stream",
     "text": [
      " 85%|████████▍ | 914/1078 [58:56<06:53,  2.52s/it]"
     ]
    },
    {
     "name": "stdout",
     "output_type": "stream",
     "text": [
      "Progress saved: 915 hotels processed\n"
     ]
    },
    {
     "name": "stderr",
     "output_type": "stream",
     "text": [
      " 85%|████████▌ | 919/1078 [59:10<07:12,  2.72s/it]"
     ]
    },
    {
     "name": "stdout",
     "output_type": "stream",
     "text": [
      "Progress saved: 920 hotels processed\n"
     ]
    },
    {
     "name": "stderr",
     "output_type": "stream",
     "text": [
      " 86%|████████▌ | 924/1078 [59:23<06:56,  2.71s/it]"
     ]
    },
    {
     "name": "stdout",
     "output_type": "stream",
     "text": [
      "Progress saved: 925 hotels processed\n"
     ]
    },
    {
     "name": "stderr",
     "output_type": "stream",
     "text": [
      " 86%|████████▌ | 929/1078 [59:36<06:07,  2.47s/it]"
     ]
    },
    {
     "name": "stdout",
     "output_type": "stream",
     "text": [
      "Progress saved: 930 hotels processed\n"
     ]
    },
    {
     "name": "stderr",
     "output_type": "stream",
     "text": [
      " 87%|████████▋ | 934/1078 [59:48<05:59,  2.50s/it]"
     ]
    },
    {
     "name": "stdout",
     "output_type": "stream",
     "text": [
      "Progress saved: 935 hotels processed\n"
     ]
    },
    {
     "name": "stderr",
     "output_type": "stream",
     "text": [
      " 87%|████████▋ | 939/1078 [1:00:01<06:11,  2.67s/it]"
     ]
    },
    {
     "name": "stdout",
     "output_type": "stream",
     "text": [
      "Progress saved: 940 hotels processed\n"
     ]
    },
    {
     "name": "stderr",
     "output_type": "stream",
     "text": [
      " 88%|████████▊ | 944/1078 [1:00:16<06:19,  2.83s/it]"
     ]
    },
    {
     "name": "stdout",
     "output_type": "stream",
     "text": [
      "Progress saved: 945 hotels processed\n"
     ]
    },
    {
     "name": "stderr",
     "output_type": "stream",
     "text": [
      " 88%|████████▊ | 949/1078 [1:00:28<05:21,  2.49s/it]"
     ]
    },
    {
     "name": "stdout",
     "output_type": "stream",
     "text": [
      "Progress saved: 950 hotels processed\n"
     ]
    },
    {
     "name": "stderr",
     "output_type": "stream",
     "text": [
      " 88%|████████▊ | 954/1078 [1:00:42<05:41,  2.75s/it]"
     ]
    },
    {
     "name": "stdout",
     "output_type": "stream",
     "text": [
      "Progress saved: 955 hotels processed\n"
     ]
    },
    {
     "name": "stderr",
     "output_type": "stream",
     "text": [
      " 89%|████████▉ | 959/1078 [1:00:55<04:58,  2.51s/it]"
     ]
    },
    {
     "name": "stdout",
     "output_type": "stream",
     "text": [
      "Progress saved: 960 hotels processed\n"
     ]
    },
    {
     "name": "stderr",
     "output_type": "stream",
     "text": [
      " 89%|████████▉ | 964/1078 [1:01:07<04:39,  2.45s/it]"
     ]
    },
    {
     "name": "stdout",
     "output_type": "stream",
     "text": [
      "Progress saved: 965 hotels processed\n"
     ]
    },
    {
     "name": "stderr",
     "output_type": "stream",
     "text": [
      " 90%|████████▉ | 969/1078 [1:01:20<04:54,  2.70s/it]"
     ]
    },
    {
     "name": "stdout",
     "output_type": "stream",
     "text": [
      "Progress saved: 970 hotels processed\n"
     ]
    },
    {
     "name": "stderr",
     "output_type": "stream",
     "text": [
      " 90%|█████████ | 974/1078 [1:01:32<04:14,  2.45s/it]"
     ]
    },
    {
     "name": "stdout",
     "output_type": "stream",
     "text": [
      "Progress saved: 975 hotels processed\n"
     ]
    },
    {
     "name": "stderr",
     "output_type": "stream",
     "text": [
      " 91%|█████████ | 979/1078 [1:01:45<04:10,  2.53s/it]"
     ]
    },
    {
     "name": "stdout",
     "output_type": "stream",
     "text": [
      "Progress saved: 980 hotels processed\n"
     ]
    },
    {
     "name": "stderr",
     "output_type": "stream",
     "text": [
      " 91%|█████████▏| 984/1078 [1:01:57<03:57,  2.52s/it]"
     ]
    },
    {
     "name": "stdout",
     "output_type": "stream",
     "text": [
      "Progress saved: 985 hotels processed\n"
     ]
    },
    {
     "name": "stderr",
     "output_type": "stream",
     "text": [
      " 92%|█████████▏| 989/1078 [1:02:12<04:22,  2.95s/it]"
     ]
    },
    {
     "name": "stdout",
     "output_type": "stream",
     "text": [
      "Progress saved: 990 hotels processed\n"
     ]
    },
    {
     "name": "stderr",
     "output_type": "stream",
     "text": [
      " 92%|█████████▏| 994/1078 [1:02:30<05:29,  3.92s/it]"
     ]
    },
    {
     "name": "stdout",
     "output_type": "stream",
     "text": [
      "Progress saved: 995 hotels processed\n"
     ]
    },
    {
     "name": "stderr",
     "output_type": "stream",
     "text": [
      " 93%|█████████▎| 999/1078 [1:02:45<04:12,  3.20s/it]"
     ]
    },
    {
     "name": "stdout",
     "output_type": "stream",
     "text": [
      "Progress saved: 1000 hotels processed\n"
     ]
    },
    {
     "name": "stderr",
     "output_type": "stream",
     "text": [
      " 93%|█████████▎| 1004/1078 [1:02:59<03:27,  2.81s/it]"
     ]
    },
    {
     "name": "stdout",
     "output_type": "stream",
     "text": [
      "Progress saved: 1005 hotels processed\n"
     ]
    },
    {
     "name": "stderr",
     "output_type": "stream",
     "text": [
      " 94%|█████████▎| 1009/1078 [1:03:13<03:09,  2.74s/it]"
     ]
    },
    {
     "name": "stdout",
     "output_type": "stream",
     "text": [
      "Progress saved: 1010 hotels processed\n"
     ]
    },
    {
     "name": "stderr",
     "output_type": "stream",
     "text": [
      " 94%|█████████▍| 1014/1078 [1:03:26<02:53,  2.71s/it]"
     ]
    },
    {
     "name": "stdout",
     "output_type": "stream",
     "text": [
      "Progress saved: 1015 hotels processed\n"
     ]
    },
    {
     "name": "stderr",
     "output_type": "stream",
     "text": [
      " 95%|█████████▍| 1019/1078 [1:03:39<02:35,  2.63s/it]"
     ]
    },
    {
     "name": "stdout",
     "output_type": "stream",
     "text": [
      "Progress saved: 1020 hotels processed\n"
     ]
    },
    {
     "name": "stderr",
     "output_type": "stream",
     "text": [
      " 95%|█████████▍| 1024/1078 [1:03:51<02:15,  2.52s/it]"
     ]
    },
    {
     "name": "stdout",
     "output_type": "stream",
     "text": [
      "Progress saved: 1025 hotels processed\n"
     ]
    },
    {
     "name": "stderr",
     "output_type": "stream",
     "text": [
      " 95%|█████████▌| 1029/1078 [1:04:04<02:06,  2.59s/it]"
     ]
    },
    {
     "name": "stdout",
     "output_type": "stream",
     "text": [
      "Progress saved: 1030 hotels processed\n"
     ]
    },
    {
     "name": "stderr",
     "output_type": "stream",
     "text": [
      " 96%|█████████▌| 1032/1078 [1:04:13<02:04,  2.70s/it]"
     ]
    },
    {
     "name": "stdout",
     "output_type": "stream",
     "text": [
      "Failed to parse JSON for SEEFAH LUMPINI CO.,LTD.. Raw response: ```json\n",
      "{\n",
      "    \"ownership\": \"Seefah Group owns 100% of SEEFAH LUMPINI CO.,LTD.\",\n",
      "    \"management\": \"Independent management\",\n",
      "    \"mission\": \"At Seefah Lumpini, we redefine luxury with a touch of Thai hospitality, creating a truly unique experience for our guests.\",\n",
      "    \"star_rating\": 4\n",
      "}\n",
      "```\n"
     ]
    },
    {
     "name": "stderr",
     "output_type": "stream",
     "text": [
      " 96%|█████████▌| 1034/1078 [1:04:19<02:03,  2.80s/it]"
     ]
    },
    {
     "name": "stdout",
     "output_type": "stream",
     "text": [
      "Progress saved: 1035 hotels processed\n"
     ]
    },
    {
     "name": "stderr",
     "output_type": "stream",
     "text": [
      " 96%|█████████▋| 1039/1078 [1:04:31<01:37,  2.50s/it]"
     ]
    },
    {
     "name": "stdout",
     "output_type": "stream",
     "text": [
      "Progress saved: 1040 hotels processed\n"
     ]
    },
    {
     "name": "stderr",
     "output_type": "stream",
     "text": [
      " 97%|█████████▋| 1044/1078 [1:04:44<01:30,  2.67s/it]"
     ]
    },
    {
     "name": "stdout",
     "output_type": "stream",
     "text": [
      "Progress saved: 1045 hotels processed\n"
     ]
    },
    {
     "name": "stderr",
     "output_type": "stream",
     "text": [
      " 97%|█████████▋| 1049/1078 [1:04:57<01:15,  2.62s/it]"
     ]
    },
    {
     "name": "stdout",
     "output_type": "stream",
     "text": [
      "Progress saved: 1050 hotels processed\n"
     ]
    },
    {
     "name": "stderr",
     "output_type": "stream",
     "text": [
      " 98%|█████████▊| 1054/1078 [1:05:10<01:03,  2.63s/it]"
     ]
    },
    {
     "name": "stdout",
     "output_type": "stream",
     "text": [
      "Progress saved: 1055 hotels processed\n"
     ]
    },
    {
     "name": "stderr",
     "output_type": "stream",
     "text": [
      " 98%|█████████▊| 1059/1078 [1:05:26<00:56,  2.99s/it]"
     ]
    },
    {
     "name": "stdout",
     "output_type": "stream",
     "text": [
      "Progress saved: 1060 hotels processed\n"
     ]
    },
    {
     "name": "stderr",
     "output_type": "stream",
     "text": [
      " 99%|█████████▊| 1064/1078 [1:05:39<00:39,  2.85s/it]"
     ]
    },
    {
     "name": "stdout",
     "output_type": "stream",
     "text": [
      "Progress saved: 1065 hotels processed\n"
     ]
    },
    {
     "name": "stderr",
     "output_type": "stream",
     "text": [
      " 99%|█████████▉| 1069/1078 [1:05:52<00:23,  2.66s/it]"
     ]
    },
    {
     "name": "stdout",
     "output_type": "stream",
     "text": [
      "Progress saved: 1070 hotels processed\n"
     ]
    },
    {
     "name": "stderr",
     "output_type": "stream",
     "text": [
      "100%|█████████▉| 1074/1078 [1:06:05<00:10,  2.69s/it]"
     ]
    },
    {
     "name": "stdout",
     "output_type": "stream",
     "text": [
      "Progress saved: 1075 hotels processed\n"
     ]
    },
    {
     "name": "stderr",
     "output_type": "stream",
     "text": [
      "100%|██████████| 1078/1078 [1:06:16<00:00,  3.69s/it]\n"
     ]
    }
   ],
   "source": [
    "input_csv_path = \"hotel_data_20241002_091611.csv\"\n",
    "enriched_df = process_hotel_data(input_csv_path)"
   ]
  },
  {
   "cell_type": "code",
   "execution_count": 32,
   "metadata": {},
   "outputs": [],
   "source": [
    "import pandas as pd\n",
    "import matplotlib.pyplot as plt\n",
    "import seaborn as sns\n",
    "import networkx as nx\n",
    "from pyvis.network import Network\n",
    "import numpy as np"
   ]
  },
  {
   "cell_type": "code",
   "execution_count": 33,
   "metadata": {},
   "outputs": [],
   "source": [
    "def create_hotel_network_visualization(csv_path):\n",
    "    # Read the CSV file\n",
    "    df = pd.read_csv(csv_path)\n",
    "    \n",
    "    # Filter for 5-star hotels\n",
    "    five_star_hotels = df[df['Star_Rating'] == 5].copy()\n",
    "    \n",
    "    # Function to extract main company name\n",
    "    def extract_main_company(text):\n",
    "        if pd.isna(text):\n",
    "            return \"Unknown\"\n",
    "        # You might need to adjust this based on your actual data\n",
    "        return text.split()[0].strip('.,')\n",
    "    \n",
    "    # Extract main company names\n",
    "    five_star_hotels['Main_Owner'] = five_star_hotels['Ownership'].apply(extract_main_company)\n",
    "    five_star_hotels['Main_Manager'] = five_star_hotels['Management'].apply(extract_main_company)\n",
    "    \n",
    "    # Create a NetworkX graph\n",
    "    G = nx.Graph()\n",
    "    \n",
    "    # Add nodes and edges\n",
    "    for _, hotel in five_star_hotels.iterrows():\n",
    "        hotel_name = hotel['Hotel Name']\n",
    "        owner = hotel['Main_Owner']\n",
    "        manager = hotel['Main_Manager']\n",
    "        \n",
    "        G.add_node(hotel_name, type='hotel')\n",
    "        G.add_node(owner, type='owner')\n",
    "        G.add_node(manager, type='manager')\n",
    "        \n",
    "        G.add_edge(hotel_name, owner)\n",
    "        if manager != \"Unknown\":\n",
    "            G.add_edge(hotel_name, manager)\n",
    "    \n",
    "    # Create interactive visualization using pyvis\n",
    "    nt = Network(height=\"750px\", width=\"100%\", bgcolor=\"#222222\", font_color=\"white\")\n",
    "    \n",
    "    # Add nodes with different colors for hotels, owners, and managers\n",
    "    for node in G.nodes():\n",
    "        node_type = G.nodes[node]['type']\n",
    "        if node_type == 'hotel':\n",
    "            nt.add_node(node, label=node, color=\"#1f78b4\")\n",
    "        elif node_type == 'owner':\n",
    "            nt.add_node(node, label=node, color=\"#33a02c\")\n",
    "        else:  # manager\n",
    "            nt.add_node(node, label=node, color=\"#e31a1c\")\n",
    "    \n",
    "    # Add edges\n",
    "    for edge in G.edges():\n",
    "        nt.add_edge(edge[0], edge[1])\n",
    "    \n",
    "    # Generate the interactive visualization\n",
    "    nt.show(\"hotel_network.html\")\n",
    "    \n",
    "    return five_star_hotels\n"
   ]
  },
  {
   "cell_type": "code",
   "execution_count": 34,
   "metadata": {},
   "outputs": [],
   "source": [
    "def create_summary_statistics(five_star_hotels):\n",
    "    # Create summary DataFrames\n",
    "    owner_summary = five_star_hotels['Main_Owner'].value_counts().reset_index()\n",
    "    owner_summary.columns = ['Owner', 'Count']\n",
    "    \n",
    "    manager_summary = five_star_hotels['Main_Manager'].value_counts().reset_index()\n",
    "    manager_summary.columns = ['Manager', 'Count']\n",
    "    \n",
    "    return owner_summary, manager_summary"
   ]
  },
  {
   "cell_type": "code",
   "execution_count": 35,
   "metadata": {},
   "outputs": [],
   "source": [
    "def plot_summaries(owner_summary, manager_summary):\n",
    "    fig, (ax1, ax2) = plt.subplots(1, 2, figsize=(15, 6))\n",
    "    \n",
    "    # Plot owner summary\n",
    "    sns.barplot(data=owner_summary.head(10), x='Count', y='Owner', ax=ax1)\n",
    "    ax1.set_title('Top 10 Hotel Owners')\n",
    "    \n",
    "    # Plot manager summary\n",
    "    sns.barplot(data=manager_summary.head(10), x='Count', y='Manager', ax=ax2)\n",
    "    ax2.set_title('Top 10 Hotel Managers')\n",
    "    \n",
    "    plt.tight_layout()\n",
    "    plt.savefig('hotel_summaries.png')\n",
    "    plt.close()"
   ]
  },
  {
   "cell_type": "code",
   "execution_count": 73,
   "metadata": {},
   "outputs": [
    {
     "name": "stdout",
     "output_type": "stream",
     "text": [
      "<class 'pandas.core.frame.DataFrame'>\n",
      "RangeIndex: 1078 entries, 0 to 1077\n",
      "Data columns (total 9 columns):\n",
      " #   Column            Non-Null Count  Dtype  \n",
      "---  ------            --------------  -----  \n",
      " 0   Unnamed: 0        1078 non-null   int64  \n",
      " 1   Date Scraped      1078 non-null   object \n",
      " 2   Hotel Name        1078 non-null   object \n",
      " 3   Second Span Text  840 non-null    object \n",
      " 4   Link URL          1078 non-null   object \n",
      " 5   Ownership         1073 non-null   object \n",
      " 6   Management        968 non-null    object \n",
      " 7   Mission           1073 non-null   object \n",
      " 8   Star_Rating       1073 non-null   float64\n",
      "dtypes: float64(1), int64(1), object(7)\n",
      "memory usage: 75.9+ KB\n"
     ]
    }
   ],
   "source": [
    "input_csv_path = \"hotel_data_20241002_091611_enriched_final.csv\"\n",
    "df1 = pd.read_csv(input_csv_path)   \n",
    "df1.info()\n"
   ]
  },
  {
   "cell_type": "code",
   "execution_count": 74,
   "metadata": {},
   "outputs": [],
   "source": [
    "import re\n",
    "import pandas as pd\n",
    "import numpy as np\n",
    "\n",
    "def clean_ownership(ownership_str):\n",
    "    # Check if the value is a string\n",
    "    if isinstance(ownership_str, str):\n",
    "        # Case 1: Company name appears before \"owns\"\n",
    "        match_owns = re.search(r'^(.*?)(?:\\s+owns|\\s+owns\\s+\\d+%)', ownership_str, re.IGNORECASE)\n",
    "        \n",
    "        if match_owns:\n",
    "            return match_owns.group(1).strip()\n",
    "\n",
    "        # Case 2: Pattern \"is owned by\" with company name after it\n",
    "        match_owned_by = re.search(r'is owned by\\s+(.*?)(?:\\s+with|$)', ownership_str, re.IGNORECASE)\n",
    "        \n",
    "        if match_owned_by:\n",
    "            return match_owned_by.group(1).strip()\n",
    "\n",
    "        # Case 3: Extract before comma, e.g. \"Maduzi Hotel Group, 100%\"\n",
    "        match_comma = re.search(r'^(.*?)(?:,|$)', ownership_str)\n",
    "        \n",
    "        if match_comma:\n",
    "            return match_comma.group(1).strip()\n",
    "    \n",
    "    # If it's not a string or no match is found, return np.nan\n",
    "    return np.nan"
   ]
  },
  {
   "cell_type": "code",
   "execution_count": 75,
   "metadata": {},
   "outputs": [],
   "source": [
    "# Apply the function to the column\n",
    "df1['clean_ownership'] = df1['Ownership'].apply(clean_ownership)\n"
   ]
  },
  {
   "cell_type": "code",
   "execution_count": 76,
   "metadata": {},
   "outputs": [
    {
     "data": {
      "text/html": [
       "<div>\n",
       "<style scoped>\n",
       "    .dataframe tbody tr th:only-of-type {\n",
       "        vertical-align: middle;\n",
       "    }\n",
       "\n",
       "    .dataframe tbody tr th {\n",
       "        vertical-align: top;\n",
       "    }\n",
       "\n",
       "    .dataframe thead th {\n",
       "        text-align: right;\n",
       "    }\n",
       "</style>\n",
       "<table border=\"1\" class=\"dataframe\">\n",
       "  <thead>\n",
       "    <tr style=\"text-align: right;\">\n",
       "      <th></th>\n",
       "      <th>Unnamed: 0</th>\n",
       "      <th>Date Scraped</th>\n",
       "      <th>Hotel Name</th>\n",
       "      <th>Second Span Text</th>\n",
       "      <th>Link URL</th>\n",
       "      <th>Ownership</th>\n",
       "      <th>Management</th>\n",
       "      <th>Mission</th>\n",
       "      <th>Star_Rating</th>\n",
       "      <th>clean_ownership</th>\n",
       "    </tr>\n",
       "  </thead>\n",
       "  <tbody>\n",
       "    <tr>\n",
       "      <th>34</th>\n",
       "      <td>34</td>\n",
       "      <td>2024-10-02</td>\n",
       "      <td>BANGKOK PALACE HOTEL</td>\n",
       "      <td>Bangkok</td>\n",
       "      <td>https://www.bangkokpalace.com/</td>\n",
       "      <td>Bangkok Hospitality Group owns 70% of the hotel</td>\n",
       "      <td>The property is self-managed</td>\n",
       "      <td>Where tradition meets luxury, creating unforge...</td>\n",
       "      <td>4.0</td>\n",
       "      <td>Bangkok Hospitality Group</td>\n",
       "    </tr>\n",
       "  </tbody>\n",
       "</table>\n",
       "</div>"
      ],
      "text/plain": [
       "    Unnamed: 0 Date Scraped            Hotel Name Second Span Text                        Link URL                                        Ownership                    Management                                            Mission  Star_Rating            clean_ownership\n",
       "34          34   2024-10-02  BANGKOK PALACE HOTEL          Bangkok  https://www.bangkokpalace.com/  Bangkok Hospitality Group owns 70% of the hotel  The property is self-managed  Where tradition meets luxury, creating unforge...          4.0  Bangkok Hospitality Group"
      ]
     },
     "execution_count": 76,
     "metadata": {},
     "output_type": "execute_result"
    }
   ],
   "source": [
    "df1.sample()"
   ]
  },
  {
   "cell_type": "code",
   "execution_count": 82,
   "metadata": {},
   "outputs": [],
   "source": [
    "df1.to_csv(\"hotel_data_20241002_final_owner.csv\", index=False)"
   ]
  },
  {
   "cell_type": "code",
   "execution_count": 79,
   "metadata": {},
   "outputs": [
    {
     "name": "stdout",
     "output_type": "stream",
     "text": [
      "                                        clean_ownership                                  keyword_ownership\n",
      "0     137 Pillars Hotels and Resorts (Thailand) Co.,...  137 Pillars Hotels and Resorts (Thailand) Co.,...\n",
      "1                                          7 Days Group                                       7 Days Group\n",
      "2                                         Adelphi Group                                      Adelphi Group\n",
      "3                   AETAS Hotels & Residences Co., Ltd.                AETAS Hotels & Residences Co., Ltd.\n",
      "4                               Akara Hospitality Group                            Akara Hospitality Group\n",
      "...                                                 ...                                                ...\n",
      "1073                                       FLORAL Group                                       FLORAL Group\n",
      "1074                         Shanghai Hospitality Group                         Shanghai Hospitality Group\n",
      "1075                             Marriott International                                           Marriott\n",
      "1076                               Brighton Hotel Group                               Brighton Hotel Group\n",
      "1077                                   THALASSA Resorts                                   THALASSA Resorts\n",
      "\n",
      "[1078 rows x 2 columns]\n"
     ]
    }
   ],
   "source": [
    "import re\n",
    "import pandas as pd\n",
    "import numpy as np\n",
    "\n",
    "def extract_keyword(ownership_str):\n",
    "    # Ensure we only process strings\n",
    "    if isinstance(ownership_str, str):\n",
    "        # Dictionary of patterns to match and their corresponding keywords\n",
    "        patterns = {\n",
    "            r'marriott': 'Marriott',\n",
    "            r'accor': 'Accor',\n",
    "            r'minor': 'Minor',\n",
    "            r'intercontinental|ihg': 'InterContinental',\n",
    "            r'dusit': 'Dusit',\n",
    "            r'centara': 'Centara',\n",
    "            r'hilton': 'Hilton',\n",
    "            r'banyan tree': 'Banyan Tree',\n",
    "            r'hyatt': 'Hyatt',\n",
    "            r'ascott': 'Ascott',\n",
    "            r'mövenpick|moevenpick': 'Mövenpick',\n",
    "            r'oakwood': 'Oakwood',\n",
    "            r'imperial': 'Imperial',\n",
    "            r'pinnacle': 'Pinnacle',\n",
    "            r'furama': 'Furama',\n",
    "            r'royal hospitality': 'Royal Hospitality',\n",
    "            r'santhiya': 'Santhiya',\n",
    "            r'bandara': 'Bandara',\n",
    "            r'heritage': 'Heritage',\n",
    "            r'centre point': 'Centre Point'\n",
    "        }\n",
    "\n",
    "        # Iterate over patterns and return the corresponding keyword if a match is found\n",
    "        for pattern, keyword in patterns.items():\n",
    "            if re.search(pattern, ownership_str, re.IGNORECASE):\n",
    "                return keyword\n",
    "\n",
    "    # If it's not a string or no match is found, return np.nan\n",
    "    return ownership_str\n",
    "\n",
    "\n",
    "\n",
    "# Apply the function to the column\n",
    "df1['keyword_ownership'] = df1['Ownership'].apply(extract_keyword)\n",
    "\n"
   ]
  },
  {
   "cell_type": "code",
   "execution_count": 23,
   "metadata": {},
   "outputs": [
    {
     "data": {
      "text/html": [
       "<div>\n",
       "<style scoped>\n",
       "    .dataframe tbody tr th:only-of-type {\n",
       "        vertical-align: middle;\n",
       "    }\n",
       "\n",
       "    .dataframe tbody tr th {\n",
       "        vertical-align: top;\n",
       "    }\n",
       "\n",
       "    .dataframe thead th {\n",
       "        text-align: right;\n",
       "    }\n",
       "</style>\n",
       "<table border=\"1\" class=\"dataframe\">\n",
       "  <thead>\n",
       "    <tr style=\"text-align: right;\">\n",
       "      <th></th>\n",
       "      <th>Hotel Name</th>\n",
       "      <th>Second Span Text</th>\n",
       "      <th>Link URL</th>\n",
       "      <th>Ownership</th>\n",
       "      <th>Management</th>\n",
       "      <th>Mission</th>\n",
       "      <th>Star_Rating</th>\n",
       "      <th>clean_ownership</th>\n",
       "      <th>keyword_ownership</th>\n",
       "    </tr>\n",
       "  </thead>\n",
       "  <tbody>\n",
       "    <tr>\n",
       "      <th>8</th>\n",
       "      <td>AMANTA HOTEL &amp; RESIDENCE SATHORN</td>\n",
       "      <td>Bangkok</td>\n",
       "      <td>https://visitamanta.com/th/sathorn/</td>\n",
       "      <td>Amanta Group owns 100% of the hotel</td>\n",
       "      <td>Managed independently</td>\n",
       "      <td>Where modern luxury meets warm hospitality</td>\n",
       "      <td>4.0</td>\n",
       "      <td>Amanta Group</td>\n",
       "      <td>Amanta Group</td>\n",
       "    </tr>\n",
       "    <tr>\n",
       "      <th>102</th>\n",
       "      <td>THE HERITAGE @ SRINAKARIN</td>\n",
       "      <td>Bangkok</td>\n",
       "      <td>http://www.theheritagesrinakarin.com/</td>\n",
       "      <td>The Heritage Group, 100%</td>\n",
       "      <td>Independent</td>\n",
       "      <td>Where tradition meets modern comfort for a uni...</td>\n",
       "      <td>4.0</td>\n",
       "      <td>The Heritage Group</td>\n",
       "      <td>Heritage</td>\n",
       "    </tr>\n",
       "  </tbody>\n",
       "</table>\n",
       "</div>"
      ],
      "text/plain": [
       "                           Hotel Name Second Span Text                               Link URL                            Ownership             Management                                            Mission  Star_Rating     clean_ownership keyword_ownership\n",
       "8    AMANTA HOTEL & RESIDENCE SATHORN          Bangkok    https://visitamanta.com/th/sathorn/  Amanta Group owns 100% of the hotel  Managed independently         Where modern luxury meets warm hospitality          4.0        Amanta Group      Amanta Group\n",
       "102         THE HERITAGE @ SRINAKARIN          Bangkok  http://www.theheritagesrinakarin.com/             The Heritage Group, 100%            Independent  Where tradition meets modern comfort for a uni...          4.0  The Heritage Group          Heritage"
      ]
     },
     "execution_count": 23,
     "metadata": {},
     "output_type": "execute_result"
    }
   ],
   "source": [
    "df = pd.read_csv('hotel_data_20241002_final_owner.csv')\n",
    "df.sample(2)"
   ]
  },
  {
   "cell_type": "code",
   "execution_count": 17,
   "metadata": {},
   "outputs": [
    {
     "name": "stdout",
     "output_type": "stream",
     "text": [
      "<class 'pandas.core.frame.DataFrame'>\n",
      "RangeIndex: 1099 entries, 0 to 1098\n",
      "Data columns (total 9 columns):\n",
      " #   Column             Non-Null Count  Dtype  \n",
      "---  ------             --------------  -----  \n",
      " 0   Hotel Name         1099 non-null   object \n",
      " 1   Second Span Text   840 non-null    object \n",
      " 2   Link URL           1078 non-null   object \n",
      " 3   Ownership          1094 non-null   object \n",
      " 4   Management         968 non-null    object \n",
      " 5   Mission            1073 non-null   object \n",
      " 6   Star_Rating        1073 non-null   float64\n",
      " 7   clean_ownership    1094 non-null   object \n",
      " 8   keyword_ownership  1094 non-null   object \n",
      "dtypes: float64(1), object(8)\n",
      "memory usage: 77.4+ KB\n"
     ]
    }
   ],
   "source": [
    "df.info()"
   ]
  },
  {
   "cell_type": "code",
   "execution_count": 19,
   "metadata": {},
   "outputs": [
    {
     "name": "stdout",
     "output_type": "stream",
     "text": [
      "Hotel names have been appended successfully.\n"
     ]
    }
   ],
   "source": [
    "import requests\n",
    "from bs4 import BeautifulSoup\n",
    "import pandas as pd\n",
    "\n",
    "# Step 1: Fetch the webpage content\n",
    "url = 'https://www.assetworldcorp-th.com/en/portfolio/hospitalities'\n",
    "response = requests.get(url)\n",
    "\n",
    "# Check if the request was successful\n",
    "if response.status_code == 200:\n",
    "    # Step 2: Parse the HTML content\n",
    "    soup = BeautifulSoup(response.text, 'html.parser')\n",
    "    \n",
    "    # Step 3: Find all <h2> elements with the specified class\n",
    "    hotel_names = soup.find_all('h2', class_='card__title text-uppercase')\n",
    "    \n",
    "    # Step 4: Extract text and clean it\n",
    "    hotel_names_list = [hotel.get_text(strip=True) for hotel in hotel_names]\n",
    "    \n",
    "    # Step 5: Load the existing CSV file\n",
    "    df = pd.read_csv('hotel_data_20241002_final_owner.csv')\n",
    "    \n",
    "    # Step 6: Create a DataFrame for the new entries\n",
    "    new_entries = pd.DataFrame({\n",
    "        'Hotel Name': hotel_names_list,\n",
    "        'Second Span Text': [None] * len(hotel_names_list),  # Fill with None or appropriate data\n",
    "        'Link URL': [url] * len(hotel_names_list),           # Set Link URL to the base URL\n",
    "        'Ownership': ['Asset World Corp'] * len(hotel_names_list),\n",
    "        'Management': [None] * len(hotel_names_list),       # Fill with None or appropriate data\n",
    "        'Mission': [None] * len(hotel_names_list),          # Fill with None or appropriate data\n",
    "        'Star_Rating': [5] * len(hotel_names_list),         # Set Star Rating to 5\n",
    "        'clean_ownership': ['Asset World Corp'] * len(hotel_names_list),  # Same as Ownership\n",
    "        'keyword_ownership': ['Asset World Corp'] * len(hotel_names_list)  # Same as Ownership\n",
    "    })\n",
    "    \n",
    "    # Step 7: Append new entries to the existing DataFrame\n",
    "    df = pd.concat([df, new_entries], ignore_index=True)\n",
    "    \n",
    "    print(\"Hotel names have been appended successfully.\")\n",
    "else:\n",
    "    print(f\"Failed to retrieve the webpage. Status code: {response.status_code}\")\n"
   ]
  },
  {
   "cell_type": "code",
   "execution_count": null,
   "metadata": {},
   "outputs": [],
   "source": [
    "# Step 8: Save the updated DataFrame back to the CSV\n",
    "df.to_csv('hotel_data_20241002_final_owner.csv', index=False)\n"
   ]
  },
  {
   "cell_type": "code",
   "execution_count": 24,
   "metadata": {},
   "outputs": [
    {
     "data": {
      "text/html": [
       "<div>\n",
       "<style scoped>\n",
       "    .dataframe tbody tr th:only-of-type {\n",
       "        vertical-align: middle;\n",
       "    }\n",
       "\n",
       "    .dataframe tbody tr th {\n",
       "        vertical-align: top;\n",
       "    }\n",
       "\n",
       "    .dataframe thead th {\n",
       "        text-align: right;\n",
       "    }\n",
       "</style>\n",
       "<table border=\"1\" class=\"dataframe\">\n",
       "  <thead>\n",
       "    <tr style=\"text-align: right;\">\n",
       "      <th></th>\n",
       "      <th>Hotel Name</th>\n",
       "      <th>Second Span Text</th>\n",
       "      <th>Link URL</th>\n",
       "      <th>Ownership</th>\n",
       "      <th>Management</th>\n",
       "      <th>Mission</th>\n",
       "      <th>Star_Rating</th>\n",
       "      <th>clean_ownership</th>\n",
       "      <th>keyword_ownership</th>\n",
       "    </tr>\n",
       "  </thead>\n",
       "  <tbody>\n",
       "  </tbody>\n",
       "</table>\n",
       "</div>"
      ],
      "text/plain": [
       "Empty DataFrame\n",
       "Columns: [Hotel Name, Second Span Text, Link URL, Ownership, Management, Mission, Star_Rating, clean_ownership, keyword_ownership]\n",
       "Index: []"
      ]
     },
     "execution_count": 24,
     "metadata": {},
     "output_type": "execute_result"
    }
   ],
   "source": [
    "# Step 8: Check for duplicates in the 'Hotel Name' column\n",
    "duplicate_hotels = df[df.duplicated(['Hotel Name'], keep=False)]\n",
    "duplicate_hotels\n"
   ]
  },
  {
   "cell_type": "code",
   "execution_count": null,
   "metadata": {},
   "outputs": [],
   "source": []
  }
 ],
 "metadata": {
  "kernelspec": {
   "display_name": "hotels_th",
   "language": "python",
   "name": "python3"
  },
  "language_info": {
   "codemirror_mode": {
    "name": "ipython",
    "version": 3
   },
   "file_extension": ".py",
   "mimetype": "text/x-python",
   "name": "python",
   "nbconvert_exporter": "python",
   "pygments_lexer": "ipython3",
   "version": "3.12.7"
  }
 },
 "nbformat": 4,
 "nbformat_minor": 2
}
