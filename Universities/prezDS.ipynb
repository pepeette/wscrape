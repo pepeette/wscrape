{
 "cells": [
  {
   "cell_type": "code",
   "execution_count": 6,
   "metadata": {},
   "outputs": [
    {
     "data": {
      "text/plain": [
       "'student_application_tree.png'"
      ]
     },
     "execution_count": 6,
     "metadata": {},
     "output_type": "execute_result"
    }
   ],
   "source": [
    "from graphviz import Digraph\n",
    "\n",
    "# Create a new directed graph\n",
    "dot = Digraph(comment='Student Application Decision Tree')\n",
    "\n",
    "# Define the nodes with line breaks using \\n\n",
    "dot.node('A', 'COUNTRY:\\nIs student applying to US uni?')\n",
    "dot.node('B', 'Is this MAJOR\\nyour field?')\n",
    "dot.node('C', 'Is this MAJOR\\na KEY criteria?')\n",
    "dot.node('D', 'TEACHER provide ACHIEVEMENTS,\\nwhy excelling in the major')\n",
    "dot.node('E', 'TEACHER provide student TRAITS,\\ncollaboration or workshop example')\n",
    "dot.node('F', 'COUNSELORS provide IDIOSYNCRACY\\n& ETHOS statements & extracurricular')\n",
    "dot.node('G', 'TEACHER provide ACADEMICS')\n",
    "\n",
    "# Define the edges and paths\n",
    "dot.edge('A', 'B', 'Yes')\n",
    "dot.edge('B', 'C', 'Yes')\n",
    "dot.edge('C', 'D', 'Yes')\n",
    "dot.edge('C', 'E', 'No')\n",
    "dot.edge('A', 'G', 'No')\n",
    "dot.edge('B', 'F', 'No')\n",
    "\n",
    "# Render the decision tree diagram\n",
    "dot.render('student_application_tree', format='png', view=True)\n"
   ]
  },
  {
   "cell_type": "code",
   "execution_count": 11,
   "metadata": {},
   "outputs": [
    {
     "data": {
      "text/plain": [
       "'student_application_tree.png'"
      ]
     },
     "execution_count": 11,
     "metadata": {},
     "output_type": "execute_result"
    }
   ],
   "source": [
    "from graphviz import Digraph\n",
    "\n",
    "# Create a new directed graph\n",
    "dot = Digraph(comment='Student Application Decision Tree')\n",
    "\n",
    "# Define the global attributes for edges (arrows) and labels\n",
    "dot.attr('graph', fontname='Arial')  # Set font globally for the graph\n",
    "dot.attr('node', fontname='Arial')   # Set font globally for all nodes\n",
    "dot.attr('edge', fontname='Arial', color='grey', fontcolor='grey')  # Set font for edges and color\n",
    "\n",
    "# Define the nodes with specific border colors based on content\n",
    "dot.node('A', 'COUNTRY:\\nIs student applying to US uni?', shape='box', style='rounded')\n",
    "dot.node('B', 'Is this MAJOR\\nyour field?', shape='box', style='rounded')\n",
    "dot.node('C', 'Is this MAJOR\\na KEY criteria?', shape='box', style='rounded')\n",
    "\n",
    "# Nodes with \"TEACHER\" - rounded boxes with green borders\n",
    "dot.node('D', 'TEACHER provide ACHIEVEMENTS,\\nwhy excelling in the major', shape='box', style='rounded', color='lightgreen')\n",
    "dot.node('E', 'TEACHER provide student TRAITS,\\ncollaboration or workshop example', shape='box', style='rounded', color='lightgreen')\n",
    "dot.node('G', 'TEACHER provide ACADEMICS', shape='box', style='rounded', color='lightgreen')\n",
    "\n",
    "# Node with \"COUNSELORS\" - rounded box with red border\n",
    "dot.node('F', 'COUNSELORS provide IDIOSYNCRACY\\n& ETHOS statements & extracurricular', shape='box', style='rounded', color='lightcoral')\n",
    "\n",
    "# Define the edges and paths with YES/NO in grey\n",
    "dot.edge('A', 'B', label='Yes')\n",
    "dot.edge('B', 'C', label='Yes')\n",
    "dot.edge('C', 'D', label='Yes')\n",
    "dot.edge('C', 'E', label='No')\n",
    "dot.edge('A', 'G', label='No')\n",
    "dot.edge('B', 'F', label='No')\n",
    "\n",
    "# Render the decision tree diagram\n",
    "dot.render('student_application_tree', format='png', view=True)\n"
   ]
  },
  {
   "cell_type": "code",
   "execution_count": null,
   "metadata": {},
   "outputs": [],
   "source": []
  }
 ],
 "metadata": {
  "kernelspec": {
   "display_name": "suniture",
   "language": "python",
   "name": "python3"
  },
  "language_info": {
   "codemirror_mode": {
    "name": "ipython",
    "version": 3
   },
   "file_extension": ".py",
   "mimetype": "text/x-python",
   "name": "python",
   "nbconvert_exporter": "python",
   "pygments_lexer": "ipython3",
   "version": "3.12.2"
  }
 },
 "nbformat": 4,
 "nbformat_minor": 2
}
